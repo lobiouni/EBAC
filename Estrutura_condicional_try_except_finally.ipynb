{
  "nbformat": 4,
  "nbformat_minor": 0,
  "metadata": {
    "colab": {
      "name": "Estrutura_condicional_try_except_finally.ipynb",
      "provenance": [],
      "collapsed_sections": [],
      "authorship_tag": "ABX9TyO+bSkr7qbaQclT59FPB0fT",
      "include_colab_link": true
    },
    "kernelspec": {
      "name": "python3",
      "display_name": "Python 3"
    },
    "language_info": {
      "name": "python"
    }
  },
  "cells": [
    {
      "cell_type": "markdown",
      "metadata": {
        "id": "view-in-github",
        "colab_type": "text"
      },
      "source": [
        "<a href=\"https://colab.research.google.com/github/lobiouni/EBAC/blob/main/Estrutura_condicional_try_except_finally.ipynb\" target=\"_parent\"><img src=\"https://colab.research.google.com/assets/colab-badge.svg\" alt=\"Open In Colab\"/></a>"
      ]
    },
    {
      "cell_type": "markdown",
      "source": [
        "# **Estrutura para tratar exceções com try e except**"
      ],
      "metadata": {
        "id": "Ha-v_lN4WhzT"
      }
    },
    {
      "cell_type": "code",
      "execution_count": null,
      "metadata": {
        "id": "u0yecr0VWggz"
      },
      "outputs": [],
      "source": [
        "preco = 132.85\n",
        "pessoas = 0\n",
        "\n",
        "try:\n",
        "  valor_por_pessoa = preco/pessoas\n",
        "  print(valor_por_pessoa)\n",
        "except ZeroDivisionError:\n",
        "  print(\"Número de pessoas inválido. Espera-se um valor maior que 0 e obteve-se um valor igual a \" + str(pessoas))"
      ]
    },
    {
      "cell_type": "code",
      "source": [
        "# Se não souber o tipo exato de erro exato, utiliza o exception.\n",
        "\n",
        "preco = 132.85\n",
        "pessoas = 0\n",
        "\n",
        "try:\n",
        "  valor_por_pessoa = preco/pessoas\n",
        "  print(valor_por_pessoa)\n",
        "except Exception:\n",
        "  print(\"Número de pessoas inválido. Espera-se um valor maior que 0 e obteve-se um valor igual a \" + str(pessoas))"
      ],
      "metadata": {
        "id": "fML1AL0qXkHN"
      },
      "execution_count": null,
      "outputs": []
    },
    {
      "cell_type": "code",
      "source": [
        "# No entanto, procurar um erro genério é uma má prática. É sempre bom explorar para saber a descrição e o tipo de erro, e assim capturar um erro específico.\n",
        "\n",
        "try:\n",
        "  valor_por_pessoa = preco/pessoas\n",
        "  print(valor_por_pessoa)\n",
        "except Exception as exc: # Coloca a exceção genérica e nomeia (exc)\n",
        "  print(\"Descrição da exceção/erro: \" + str(exc)) # captura a descrição do erro e converte pra string pra fazer a concatenação\n",
        "  print(\"Tipo da exceção/erro: \" + str(type(exc))) # captura o tipo do erro e converte pra string pra fazer a concatenação\n",
        "  print(\"Número de pessoas inválido. Espera-se um valor maior que 0 e obteve-se um valor igual a \" + str(pessoas)) # mensagem sobre o erro que aconteceu"
      ],
      "metadata": {
        "id": "iHFB_17yooRV"
      },
      "execution_count": null,
      "outputs": []
    },
    {
      "cell_type": "code",
      "source": [
        "preco = 132.85\n",
        "pessoas = 2\n",
        "\n",
        "try:\n",
        "  valor_por_pessoa = preco/pessoas\n",
        "  print(valor_por_pessoa)\n",
        "except ZeroDivisionError:\n",
        "  print(\"Número de pessoas inválido. Espera-se um valor maior que 0 e obteve-se um valor igual a \" + str(pessoas))"
      ],
      "metadata": {
        "id": "UxjWZvHOXaHl"
      },
      "execution_count": null,
      "outputs": []
    },
    {
      "cell_type": "code",
      "source": [
        "# Outro exemplo\n",
        "\n",
        "anos = [2019, 2020, 2021]\n",
        "\n",
        "try:\n",
        "  ano_atual = anos[3]\n",
        "  print(ano_atual)\n",
        "except Exception as exc:\n",
        "  print(\"Descrição da exceção: \" +  str(exc))\n",
        "  print(\"Tipo da exceção: \" + str(type(exc)))"
      ],
      "metadata": {
        "id": "ozoIOc7jsKk9"
      },
      "execution_count": null,
      "outputs": []
    },
    {
      "cell_type": "code",
      "source": [
        "# Com o código acima, obtemos o tipo de erro e assim podemosxcept para esse erro específico e usar mais um except para qualquer outro erro genérico que possa surgir\n",
        "\n",
        "try:\n",
        "  ano_atual = anos[3]\n",
        "  print(ano_atual)\n",
        "except IndexError:\n",
        "  print(\"Lista de anos é menor que p valor escolhido. Espera-se um valor entre 0 e \" + str(len(anos) - 1))\n",
        "except Exception as exc:\n",
        "  print(exc)\n",
        "  print(\"Erro genérico\")"
      ],
      "metadata": {
        "id": "E1y2p4YTtDea"
      },
      "execution_count": null,
      "outputs": []
    },
    {
      "cell_type": "code",
      "source": [
        "try:\n",
        "  ano_atual = ano[3]\n",
        "  print(ano_atual)\n",
        "except IndexError:\n",
        "  print(\"Lista de anos é menor que p valor escolhido. Espera-se um valor entre 0 e \" + str(len(anos) - 1))\n",
        "except Exception as exc:\n",
        "  print(exc)\n",
        "  print(\"Erro genérico\")"
      ],
      "metadata": {
        "id": "X4F_Fhfjt5gX"
      },
      "execution_count": null,
      "outputs": []
    },
    {
      "cell_type": "markdown",
      "source": [
        "# **Tratando erro com try/except/finally**"
      ],
      "metadata": {
        "id": "sJXbpVL8uHPe"
      }
    },
    {
      "cell_type": "code",
      "source": [
        "# Você pode fazer a correção do erro para que assim o código seja executado\n",
        "\n",
        "nome = \"Lorena Pinheiro\"\n",
        "idade = 33\n",
        "\n",
        "try:\n",
        "  apresentacao = \"Fala pessoal, meu nome é \" + nome + \"e eu tenho \" + idade + \"anos!\" # não pode concatenar string com número\n",
        "  print(apresentacao)\n",
        "except TypeError:\n",
        "  idade = str(idade) # corrige o erro: conversão de número para string \n",
        "finally:\n",
        "  print(\"Segunda chance\")\n",
        "  apresentacao = \"Fala pessoal, meu nome é \" + nome + \"e eu tenho \" + idade + \"anos!\"\n",
        "  print(apresentacao)"
      ],
      "metadata": {
        "id": "2aGX8Q_2uX8J"
      },
      "execution_count": null,
      "outputs": []
    }
  ]
}