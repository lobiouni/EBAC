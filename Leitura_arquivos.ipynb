{
  "nbformat": 4,
  "nbformat_minor": 0,
  "metadata": {
    "colab": {
      "name": "Leitura_arquivos.ipynb",
      "provenance": [],
      "authorship_tag": "ABX9TyMlAKEWnohbOz2tSj7EwWSj",
      "include_colab_link": true
    },
    "kernelspec": {
      "name": "python3",
      "display_name": "Python 3"
    },
    "language_info": {
      "name": "python"
    }
  },
  "cells": [
    {
      "cell_type": "markdown",
      "metadata": {
        "id": "view-in-github",
        "colab_type": "text"
      },
      "source": [
        "<a href=\"https://colab.research.google.com/github/lobiouni/EBAC/blob/main/Leitura_arquivos.ipynb\" target=\"_parent\"><img src=\"https://colab.research.google.com/assets/colab-badge.svg\" alt=\"Open In Colab\"/></a>"
      ]
    },
    {
      "cell_type": "markdown",
      "source": [
        "# **1.1. Configuração inicial**"
      ],
      "metadata": {
        "id": "ziA8gDLfACn7"
      }
    },
    {
      "cell_type": "code",
      "metadata": {
        "id": "vr4DaExbiyCr",
        "colab": {
          "base_uri": "https://localhost:8080/"
        },
        "outputId": "0b1a71b8-5861-4c2b-d7f3-6050d393a20f"
      },
      "source": [
        "# Atenção: isso não é um código Python e sim do Google Colab (cada vírgula representa uma coluna)\n",
        "%%writefile banco.csv\n",
        "age,job,marital,education,default,balance,housing,loan\n",
        "30,unemployed,married,primary,no,1787,no,no\n",
        "33,services,married,secondary,no,4789,yes,yes\n",
        "35,management,single,tertiary,no,1350,yes,no\n",
        "30,management,married,tertiary,no,1476,yes,yes\n",
        "59,blue-collar,married,secondary,no,0,yes,no\n",
        "35,management,single,tertiary,no,747,no,no\n",
        "36,self-employed,married,tertiary,no,307,yes,no\n",
        "39,technician,married,secondary,no,147,yes,no\n",
        "41,entrepreneur,married,tertiary,no,221,yes,no\n",
        "43,services,married,primary,no,-88,yes,yes"
      ],
      "execution_count": 1,
      "outputs": [
        {
          "output_type": "stream",
          "name": "stdout",
          "text": [
            "Writing banco.csv\n"
          ]
        }
      ]
    },
    {
      "cell_type": "markdown",
      "source": [
        "# **1.2. with / open**\n",
        "\n",
        "Comando para ler arquivos."
      ],
      "metadata": {
        "id": "dMWOacbVAGHB"
      }
    },
    {
      "cell_type": "markdown",
      "source": [
        "\n",
        "\n",
        "```\n",
        "with open(file='<caminho do arquivo>', mode='<modo de leitura>', encoding='<decodificador>') as <apelido>:\n",
        "  bloco de código\n",
        "```\n",
        "\n"
      ],
      "metadata": {
        "id": "pIzbLVs0B75F"
      }
    },
    {
      "cell_type": "markdown",
      "source": [
        "Os modos de leitura são:\n",
        "\n",
        "\n",
        "\n",
        "*   r: Abrir o arquivo para leitura (padrão);\n",
        "*   w: Abrir o arquivo para escrita (sobreescreve o arquivo original).\n",
        "*   a: Abrir o arquivo para acrescentar (não sobreescreve o arquivo original)"
      ],
      "metadata": {
        "id": "y-_woRv1F4re"
      }
    },
    {
      "cell_type": "markdown",
      "source": [
        "# **1.2 read**\n",
        "\n",
        "Comando para ler todo o conteúdo de um arquivo."
      ],
      "metadata": {
        "id": "hlyhgNj3CCak"
      }
    },
    {
      "cell_type": "code",
      "source": [
        "conteudo = None # atribuindo o valor None(vazio) para a variável conteúdo - Boa prática de código definir variáveis no começo\n",
        "\n",
        "with open(file='./banco.csv', mode='r', encoding='utf8') as arquivo:\n",
        "  conteudo = arquivo.read()\n",
        "\n",
        "print(conteudo)"
      ],
      "metadata": {
        "id": "aKvbxdppBpyO"
      },
      "execution_count": null,
      "outputs": []
    },
    {
      "cell_type": "markdown",
      "source": [
        "# **1.3 readline**\n",
        "\n",
        "Comando para ler o conteúdo de um arquivo uma linha por vez."
      ],
      "metadata": {
        "id": "5dBeoeEFC7ft"
      }
    },
    {
      "cell_type": "code",
      "source": [
        "conteudo = [] # criando uma lista vazia\n",
        "\n",
        "with open(file='./banco.csv', mode='r', encoding='utf8') as arquivo:\n",
        "  linha = arquivo.readline() # lê a primeira linha até achar \\n\n",
        "  while linha: # parecido com for mas não precisa definir qual é a coleção de dados que vai iterar. Enquanto a linha tiver informação..\n",
        "    conteudo.append(linha) #...coloca essa informação na lista 'conteudo'\n",
        "    linha = arquivo.readline() # comando para ler a próxima linha, se a linha não existir, salva o valor None.\n",
        "\n",
        "print(conteudo)"
      ],
      "metadata": {
        "id": "vZD9kR0IC9-L"
      },
      "execution_count": null,
      "outputs": []
    },
    {
      "cell_type": "markdown",
      "source": [
        "No entanto fica ruim de visualizar. Então vamos fazer um laço for para imprimir um pouco melhor e ficar melhor de visualizar. "
      ],
      "metadata": {
        "id": "hsFdLTCIFeD5"
      }
    },
    {
      "cell_type": "code",
      "source": [
        "for linha in conteudo:\n",
        "  print(linha)"
      ],
      "metadata": {
        "id": "gNhZn6biFpcu"
      },
      "execution_count": null,
      "outputs": []
    },
    {
      "cell_type": "markdown",
      "source": [
        "Extraindo os valores da primeira coluna (idade)"
      ],
      "metadata": {
        "id": "pYfY7gehGMvX"
      }
    },
    {
      "cell_type": "code",
      "source": [
        "idades = []\n",
        "\n",
        "with open(file ='./banco.csv', mode='r', encoding='utf8') as arquivo:\n",
        "  linha = arquivo.readline() # lê o cabeçalho\n",
        "  linha = arquivo.readline() # lê a primeira linha\n",
        "  while linha:\n",
        "    linha_separada = linha.split(sep = ',') # quebra a string nas vírgulas e salva os resultados em uma lista (uma lista para idade, uma para trabalho, ...). Ou seja, cada elemento da linha vira uma lista\n",
        "    idade = linha_separada[0] # seleciona o primeiro elemento da lista que é o que interessa (idade)\n",
        "    idade = int(idade) # converte o valor de string para integer (inteiro)\n",
        "    idades.append(idade) # salva o valor na lista 'idades'\n",
        "    linha = arquivo.readline() # lê uma nova linha, se a linha não existir, salva o valor None\n",
        "\n",
        "print(idades)"
      ],
      "metadata": {
        "id": "uuMruTD9GRAd"
      },
      "execution_count": null,
      "outputs": []
    }
  ]
}