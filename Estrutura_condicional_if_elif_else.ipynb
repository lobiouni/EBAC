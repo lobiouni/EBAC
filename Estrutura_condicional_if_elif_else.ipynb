{
  "nbformat": 4,
  "nbformat_minor": 0,
  "metadata": {
    "colab": {
      "name": "Estrutura_condicional_if_elif_else.ipynb",
      "provenance": [],
      "authorship_tag": "ABX9TyM7xG3CT6pqhH8s8AOUO3CN",
      "include_colab_link": true
    },
    "kernelspec": {
      "name": "python3",
      "display_name": "Python 3"
    },
    "language_info": {
      "name": "python"
    }
  },
  "cells": [
    {
      "cell_type": "markdown",
      "metadata": {
        "id": "view-in-github",
        "colab_type": "text"
      },
      "source": [
        "<a href=\"https://colab.research.google.com/github/lobiouni/EBAC/blob/main/Estrutura_condicional_if_elif_else.ipynb\" target=\"_parent\"><img src=\"https://colab.research.google.com/assets/colab-badge.svg\" alt=\"Open In Colab\"/></a>"
      ]
    },
    {
      "cell_type": "markdown",
      "source": [
        "# **Comparando variáveis com if/else**"
      ],
      "metadata": {
        "id": "FtQA9jsNMqJ9"
      }
    },
    {
      "cell_type": "code",
      "execution_count": null,
      "metadata": {
        "id": "dFuW-Ky8KUyI"
      },
      "outputs": [],
      "source": [
        "if True:\n",
        "  print(\"Verdadeiro\")\n",
        "else:\n",
        "  print(\"Falso\")"
      ]
    },
    {
      "cell_type": "code",
      "source": [
        "if False:\n",
        "  print(\"Verdadeiro\")\n",
        "else:\n",
        "  print(\"Falso\")"
      ],
      "metadata": {
        "id": "iW1b9DMWK-UT"
      },
      "execution_count": null,
      "outputs": []
    },
    {
      "cell_type": "code",
      "source": [
        "codigo_de_seguranca = \"010\"\n",
        "codigo_de_seguranca_cadastro = \"291\"\n",
        "\n",
        "pode_efetuar_pagamento = codigo_de_seguranca == codigo_de_seguranca_cadastro\n",
        "print(pode_efetuar_pagamento)"
      ],
      "metadata": {
        "id": "Uc1KnK0DLaNN"
      },
      "execution_count": null,
      "outputs": []
    },
    {
      "cell_type": "code",
      "source": [
        "if pode_efetuar_pagamento:\n",
        "  print(\"Pagamento efetuado\")\n",
        "else:\n",
        "  print(\"Erro: código de segurança inválido\")"
      ],
      "metadata": {
        "id": "2wjaXaElLgfP"
      },
      "execution_count": null,
      "outputs": []
    },
    {
      "cell_type": "code",
      "source": [
        "codigo_de_seguranca = \"291\"\n",
        "codigo_de_seguranca_cadastro = \"291\"\n",
        "\n",
        "pode_efetuar_pagamento = codigo_de_seguranca == codigo_de_seguranca_cadastro\n",
        "print(pode_efetuar_pagamento)"
      ],
      "metadata": {
        "id": "Wo70v_AzL1CK"
      },
      "execution_count": null,
      "outputs": []
    },
    {
      "cell_type": "code",
      "source": [
        "if pode_efetuar_pagamento:\n",
        "  print(\"Pagamento efetuado\")\n",
        "else:\n",
        "  print(\"Erro: código de segurança inválido\")"
      ],
      "metadata": {
        "id": "JTFPrpU_L20o"
      },
      "execution_count": null,
      "outputs": []
    },
    {
      "cell_type": "code",
      "source": [
        "if codigo_de_seguranca == codigo_de_seguranca_cadastro:\n",
        "  print(\"Pagamento efetuado\")\n",
        "else:\n",
        "  print(\"Erro: código de segurança inválido\")"
      ],
      "metadata": {
        "id": "4N25us5FMPQX"
      },
      "execution_count": null,
      "outputs": []
    },
    {
      "cell_type": "markdown",
      "source": [
        "# **Comparando múltiplas variáveis**"
      ],
      "metadata": {
        "id": "tfxxpTeKMldR"
      }
    },
    {
      "cell_type": "code",
      "source": [
        "# Comparando código e senha de segurança de um cartão de crédito\n",
        "\n",
        "codigo_de_seguranca = \"291\"\n",
        "codigo_de_seguranca_cadastro = \"291\"\n",
        "\n",
        "senha = \"7783\"\n",
        "senha_cadastro = \"7783\""
      ],
      "metadata": {
        "id": "NG_b39uPM1cy"
      },
      "execution_count": null,
      "outputs": []
    },
    {
      "cell_type": "code",
      "source": [
        "# Comparando usando o operador & (and)\n",
        "if (codigo_de_seguranca == codigo_de_seguranca_cadastro) & (senha == senha_cadastro):\n",
        "  print(\"Pagamento efetuado\")\n",
        "else:\n",
        "  print(\"Erro: pagamento não efetuado\")"
      ],
      "metadata": {
        "id": "MArVVjryN2Vx"
      },
      "execution_count": null,
      "outputs": []
    },
    {
      "cell_type": "code",
      "source": [
        "codigo_de_seguranca = \"051\"\n",
        "codigo_de_seguranca_cadastro = \"291\"\n",
        "\n",
        "senha = \"7783\"\n",
        "senha_cadastro = \"7783\"\n",
        "\n",
        "if (codigo_de_seguranca == codigo_de_seguranca_cadastro) & (senha == senha_cadastro):\n",
        "  print(\"Pagamento efetuado\")\n",
        "else:\n",
        "  print(\"Erro: pagamento não efetuado\")"
      ],
      "metadata": {
        "id": "84d83h1xOS6Q"
      },
      "execution_count": null,
      "outputs": []
    },
    {
      "cell_type": "code",
      "source": [
        "# Comparando usando o operador | (or)\n",
        "\n",
        "codigo_de_seguranca = \"051\"\n",
        "codigo_de_seguranca_cadastro = \"291\"\n",
        "\n",
        "senha = \"7783\"\n",
        "senha_cadastro = \"7783\"\n",
        "\n",
        "if (codigo_de_seguranca != codigo_de_seguranca_cadastro) | (senha != senha_cadastro):\n",
        "  print(\"Erro: pagamento não efetuado\")\n",
        "else:\n",
        "  print(\"Pagamento efetuado\")"
      ],
      "metadata": {
        "id": "jblRM33YO0SK"
      },
      "execution_count": null,
      "outputs": []
    },
    {
      "cell_type": "code",
      "source": [
        "codigo_de_seguranca = \"291\"\n",
        "codigo_de_seguranca_cadastro = \"291\"\n",
        "\n",
        "senha = \"7783\"\n",
        "senha_cadastro = \"7783\"\n",
        "\n",
        "if (codigo_de_seguranca != codigo_de_seguranca_cadastro) | (senha != senha_cadastro):\n",
        "  print(\"Erro: pagamento não efetuado\")\n",
        "else:\n",
        "  print(\"Pagamento efetuado\")"
      ],
      "metadata": {
        "id": "f2ZP9ZxaQJBg"
      },
      "execution_count": null,
      "outputs": []
    },
    {
      "cell_type": "markdown",
      "source": [
        "# **Comparando variáveis com if/elif/else**"
      ],
      "metadata": {
        "id": "Lk-OQgmcQZUO"
      }
    },
    {
      "cell_type": "code",
      "source": [
        "# elif permite que possa avaliar multiplas condições em mais de um if\n",
        "\n",
        "codigo_de_seguranca = \"291\"\n",
        "codigo_de_seguranca_cadastro = \"291\"\n",
        "\n",
        "senha = \"7783\"\n",
        "senha_cadastro = \"7783\"\n",
        "\n",
        "if (codigo_de_seguranca == codigo_de_seguranca_cadastro) & (senha == senha_cadastro):\n",
        "  print(\"Pagamento efetuado\")\n",
        "\n",
        "elif (codigo_de_seguranca == codigo_de_seguranca_cadastro) & (senha != senha_cadastro):\n",
        "  print(\"Erro: Senha inválida\")\n",
        "\n",
        "elif (codigo_de_seguranca != codigo_de_seguranca_cadastro) & (senha == senha_cadastro):\n",
        "  print(\"Erro: Código de segurança inválido\")\n",
        "\n",
        "else:\n",
        "  print(\"Erro: Código de segurança e senha inválidos\")"
      ],
      "metadata": {
        "id": "IfEIeWPbQdXY"
      },
      "execution_count": null,
      "outputs": []
    },
    {
      "cell_type": "code",
      "source": [
        "codigo_de_seguranca = \"051\"\n",
        "codigo_de_seguranca_cadastro = \"291\"\n",
        "\n",
        "senha = \"7783\"\n",
        "senha_cadastro = \"7783\"\n",
        "\n",
        "if (codigo_de_seguranca == codigo_de_seguranca_cadastro) & (senha == senha_cadastro):\n",
        "  print(\"Pagamento efetuado\")\n",
        "\n",
        "elif (codigo_de_seguranca == codigo_de_seguranca_cadastro) & (senha != senha_cadastro):\n",
        "  print(\"Erro: Senha inválida\")\n",
        "\n",
        "elif (codigo_de_seguranca != codigo_de_seguranca_cadastro) & (senha == senha_cadastro):\n",
        "  print(\"Erro: Código de segurança inválido\")\n",
        "\n",
        "else:\n",
        "  print(\"Erro: Código de segurança e senha inválidos\")"
      ],
      "metadata": {
        "id": "Rw1DXYJWSBZo"
      },
      "execution_count": null,
      "outputs": []
    },
    {
      "cell_type": "code",
      "source": [
        "codigo_de_seguranca = \"291\"\n",
        "codigo_de_seguranca_cadastro = \"291\"\n",
        "\n",
        "senha = \"7785\"\n",
        "senha_cadastro = \"7783\"\n",
        "\n",
        "if (codigo_de_seguranca == codigo_de_seguranca_cadastro) & (senha == senha_cadastro):\n",
        "  print(\"Pagamento efetuado\")\n",
        "\n",
        "elif (codigo_de_seguranca == codigo_de_seguranca_cadastro) & (senha != senha_cadastro):\n",
        "  print(\"Erro: Senha inválida\")\n",
        "\n",
        "elif (codigo_de_seguranca != codigo_de_seguranca_cadastro) & (senha == senha_cadastro):\n",
        "  print(\"Erro: Código de segurança inválido\")\n",
        "\n",
        "else:\n",
        "  print(\"Erro: Código de segurança e senha inválidos\")"
      ],
      "metadata": {
        "id": "benX6enUSFAc"
      },
      "execution_count": null,
      "outputs": []
    },
    {
      "cell_type": "code",
      "source": [
        "codigo_de_seguranca = \"051\"\n",
        "codigo_de_seguranca_cadastro = \"291\"\n",
        "\n",
        "senha = \"7785\"\n",
        "senha_cadastro = \"7783\"\n",
        "\n",
        "if (codigo_de_seguranca == codigo_de_seguranca_cadastro) & (senha == senha_cadastro):\n",
        "  print(\"Pagamento efetuado\")\n",
        "\n",
        "elif (codigo_de_seguranca == codigo_de_seguranca_cadastro) & (senha != senha_cadastro):\n",
        "  print(\"Erro: Senha inválida\")\n",
        "\n",
        "elif (codigo_de_seguranca != codigo_de_seguranca_cadastro) & (senha == senha_cadastro):\n",
        "  print(\"Erro: Código de segurança inválido\")\n",
        "\n",
        "else:\n",
        "  print(\"Erro: Código de segurança e senha inválidos\")"
      ],
      "metadata": {
        "id": "LZxZQNCcSYUq"
      },
      "execution_count": null,
      "outputs": []
    }
  ]
}