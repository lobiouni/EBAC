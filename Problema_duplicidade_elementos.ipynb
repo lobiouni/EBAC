{
  "nbformat": 4,
  "nbformat_minor": 0,
  "metadata": {
    "colab": {
      "name": "Problema_duplicidade_elementos.ipynb",
      "provenance": [],
      "authorship_tag": "ABX9TyMERh2bOod86y4tWUWaIJsP",
      "include_colab_link": true
    },
    "kernelspec": {
      "name": "python3",
      "display_name": "Python 3"
    },
    "language_info": {
      "name": "python"
    }
  },
  "cells": [
    {
      "cell_type": "markdown",
      "metadata": {
        "id": "view-in-github",
        "colab_type": "text"
      },
      "source": [
        "<a href=\"https://colab.research.google.com/github/lobiouni/EBAC/blob/main/Problema_duplicidade_elementos.ipynb\" target=\"_parent\"><img src=\"https://colab.research.google.com/assets/colab-badge.svg\" alt=\"Open In Colab\"/></a>"
      ]
    },
    {
      "cell_type": "markdown",
      "source": [
        "# **Problema de duplicidade de elementos**\n",
        "\n",
        "Você trabalha como analista de dados de mídias sociais e precisa descobrir todas as hashtags que alcançaram o top trending do Twitter durante uma semana. Você já conseguiu a hashtags por dia da semana:"
      ],
      "metadata": {
        "id": "IPa2sFNiBTLA"
      }
    },
    {
      "cell_type": "code",
      "execution_count": 3,
      "metadata": {
        "id": "xKqACidHBQZV"
      },
      "outputs": [],
      "source": [
        "hashtags_seg = [\"#tiago\", \"#joao\", \"#bbb\"]\n",
        "hashtags_ter = [\"#sarah\", \"#bbb\", \"#fiuk\"]\n",
        "hashtags_qua = [\"#gil\", \"#thelma\", \"#lourdes\"]\n",
        "hashtags_qui = [\"#rafa\", \"#fora\", \"#danilo\"]\n",
        "hashtags_sex = [\"#juliete\", \"#arthur\", \"#bbb\"]"
      ]
    },
    {
      "cell_type": "markdown",
      "source": [
        "Uma simples concatenação de lista só vai combinar as listas e por isso algumas hashtags vão aparecer duplicadas. "
      ],
      "metadata": {
        "id": "yX4-QwCJCAtf"
      }
    },
    {
      "cell_type": "code",
      "source": [
        "hashtags_semana = hashtags_seg + hashtags_ter + hashtags_qua + hashtags_qui + hashtags_sex\n",
        "print(hashtags_semana)"
      ],
      "metadata": {
        "id": "WmS9b9DgCOYA"
      },
      "execution_count": null,
      "outputs": []
    },
    {
      "cell_type": "markdown",
      "source": [
        "Como fazer essa operação de forma que as hashtags não apareçam duplicadas?"
      ],
      "metadata": {
        "id": "XEODBgJWCi3S"
      }
    },
    {
      "cell_type": "markdown",
      "source": [
        "# **Aula**"
      ],
      "metadata": {
        "id": "CHBqkVWXCudI"
      }
    },
    {
      "cell_type": "code",
      "source": [
        "## Trabalhando com conjuntos\n",
        "frutas = {\"banana\", \"maça\", \"uva\", \"uva\"}\n",
        "print(frutas)\n",
        "print(type(frutas))\n",
        "\n",
        "# 1. Operações com conjuntos\n",
        "\n",
        "## Diferença\n",
        "norte_europa = {\"Reino Unido\", \"Suécia\", \"Russia\", \"Noruega\", \"Dinamarca\"}\n",
        "escandinavia = {\"Noruega\", \"Dinamarca\", \"Suécia\"}\n",
        "\n",
        "norte_europa_nao_escandinavo = norte_europa - escandinavia\n",
        "print(norte_europa_nao_escandinavo)\n",
        "\n",
        "escandinavo_nao_norte_europa = escandinavia - norte_europa\n",
        "print(escandinavo_nao_norte_europa)"
      ],
      "metadata": {
        "id": "0d_Y4gykCtkA"
      },
      "execution_count": null,
      "outputs": []
    },
    {
      "cell_type": "code",
      "source": [
        "# 2. Métodos de manipulação\n",
        "cursos = {\"Exatas\", \"Humanas\", \"Biológicas\"}\n",
        "print(cursos)\n",
        "\n",
        "## Adição\n",
        "cursos.add(\"Saúde\")\n",
        "print(cursos)\n",
        "\n",
        "## Remoção\n",
        "cursos.remove(\"Saúde\")\n",
        "print(cursos)"
      ],
      "metadata": {
        "id": "5Vw2-Ez7EpOG"
      },
      "execution_count": null,
      "outputs": []
    },
    {
      "cell_type": "code",
      "source": [
        "# 3. Conversão\n",
        "\n",
        "times_cariocas = {\"Flamengo\", \"Fluminense\", \"Vasco\", \"Botafogo\"}\n",
        "print(times_cariocas)\n",
        "print(type(times_cariocas))\n",
        "\n",
        "print(list(times_cariocas))\n",
        "print(type(list(times_cariocas)))"
      ],
      "metadata": {
        "id": "cErVGI1HFhXn"
      },
      "execution_count": null,
      "outputs": []
    },
    {
      "cell_type": "markdown",
      "source": [
        "# **Resolvendo o problema**\n",
        "\n",
        "Abordagem: sempre que se tem algum tipo de duplicidade na informação a gente pode pensar em usar os conjuntos, pois apesar de armazenarem sequências imutáveis e valores desordenadas, são sem repetição. \n",
        "\n",
        "Estratégia\n",
        "\n",
        "\n",
        "1.   Converter cada lista em um set\n",
        "2.   Converter de volta para lista para poder manipular os dados de forma mais dinâmica (já que você não pode manipular os elementos de um conjunto). \n",
        "\n"
      ],
      "metadata": {
        "id": "2vP8Dc_DGGaf"
      }
    },
    {
      "cell_type": "code",
      "source": [
        "hashtags_seg = [\"#tiago\", \"#joao\", \"#bbb\"]\n",
        "hashtags_ter = [\"#sarah\", \"#bbb\", \"#fiuk\"]\n",
        "hashtags_qua = [\"#gil\", \"#thelma\", \"#lourdes\"]\n",
        "hashtags_qui = [\"#rafa\", \"#fora\", \"#danilo\"]\n",
        "hashtags_sex = [\"#juliete\", \"#arthur\", \"#bbb\"]\n",
        "\n",
        "hashtags_semana = hashtags_seg + hashtags_ter + hashtags_qua + hashtags_qui + hashtags_sex\n",
        "\n",
        "print(hashtags_semana)\n",
        "print(len(hashtags_semana))\n",
        "\n",
        "# 1. Convertendo cada lista em um set\n",
        "hashtags_semana_set = set(hashtags_seg + hashtags_ter + hashtags_qua + hashtags_qui + hashtags_sex)\n",
        "print(hashtags_semana_set)\n",
        "print(len(hashtags_semana_set))\n",
        "\n",
        "# 2. Convertendo novamente para lista\n",
        "hashtags_semana_list = list(hashtags_semana_set)"
      ],
      "metadata": {
        "colab": {
          "base_uri": "https://localhost:8080/"
        },
        "id": "Vtw5qubJGw7j",
        "outputId": "7c5c42e1-39e0-4bdc-9158-e7bfc2c85559"
      },
      "execution_count": 23,
      "outputs": [
        {
          "output_type": "stream",
          "name": "stdout",
          "text": [
            "['#tiago', '#joao', '#bbb', '#sarah', '#bbb', '#fiuk', '#gil', '#thelma', '#lourdes', '#rafa', '#fora', '#danilo', '#juliete', '#arthur', '#bbb']\n",
            "15\n",
            "{'#thelma', '#rafa', '#danilo', '#arthur', '#joao', '#bbb', '#gil', '#fora', '#tiago', '#juliete', '#sarah', '#lourdes', '#fiuk'}\n",
            "13\n"
          ]
        }
      ]
    }
  ]
}