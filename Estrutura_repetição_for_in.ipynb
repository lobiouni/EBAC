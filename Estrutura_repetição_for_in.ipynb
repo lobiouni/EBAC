{
  "nbformat": 4,
  "nbformat_minor": 0,
  "metadata": {
    "colab": {
      "name": "Estrutura_repetição_for_in.ipynb",
      "provenance": [],
      "authorship_tag": "ABX9TyM3qPTGym5ugNHMcSuOXGXm",
      "include_colab_link": true
    },
    "kernelspec": {
      "name": "python3",
      "display_name": "Python 3"
    },
    "language_info": {
      "name": "python"
    }
  },
  "cells": [
    {
      "cell_type": "markdown",
      "metadata": {
        "id": "view-in-github",
        "colab_type": "text"
      },
      "source": [
        "<a href=\"https://colab.research.google.com/github/lobiouni/EBAC/blob/main/Estrutura_repeti%C3%A7%C3%A3o_for_in.ipynb\" target=\"_parent\"><img src=\"https://colab.research.google.com/assets/colab-badge.svg\" alt=\"Open In Colab\"/></a>"
      ]
    },
    {
      "cell_type": "markdown",
      "source": [
        "# **Estrutura repetição for / in**\n",
        "\n",
        "Estrutura que permite a execução repetida de um bloco de código repetidas vezes.\n",
        "\n",
        "\n",
        "\n",
        "```\n",
        "for variavel_temporaria in coleção:\n",
        "  <execute este código>\n",
        "```\n",
        "\n"
      ],
      "metadata": {
        "id": "DK4CJiJDXX_2"
      }
    },
    {
      "cell_type": "code",
      "execution_count": null,
      "metadata": {
        "id": "8jaO7XQyVNhS"
      },
      "outputs": [],
      "source": [
        "c = [\"A\", \"B\", \"C\"]\n",
        "for char in c:\n",
        "  print(char)\n"
      ]
    },
    {
      "cell_type": "markdown",
      "source": [
        "# **Estrutura repetição for/in/range**\n",
        "\n",
        "Estrutura que permite a execução repetida de um bloco de código n vezes."
      ],
      "metadata": {
        "id": "mptOuD6CYfoO"
      }
    },
    {
      "cell_type": "code",
      "source": [
        "for valor in range(6):\n",
        "  print(valor)"
      ],
      "metadata": {
        "id": "LodZDxh5Yl9i"
      },
      "execution_count": null,
      "outputs": []
    },
    {
      "cell_type": "code",
      "source": [
        "soma = 0\n",
        "\n",
        "for valor in range(0, 10):\n",
        "  soma = soma + valor\n",
        "  print(soma)"
      ],
      "metadata": {
        "id": "GWk7-7b1Y0ac"
      },
      "execution_count": null,
      "outputs": []
    },
    {
      "cell_type": "code",
      "source": [
        "for multiplo_dois in range(2, 10, 2):\n",
        "  print(multiplo_dois)"
      ],
      "metadata": {
        "id": "nXDXwNlaZKvj"
      },
      "execution_count": null,
      "outputs": []
    },
    {
      "cell_type": "code",
      "source": [
        "for tres_tres in range(1, 10, 3):\n",
        "  print(tres_tres)"
      ],
      "metadata": {
        "id": "a1ypPn0wZ8Dl"
      },
      "execution_count": null,
      "outputs": []
    },
    {
      "cell_type": "markdown",
      "source": [
        "# **Estrutura repetição for/in/list**\n",
        "\n",
        "Estrutura que permite a execução de um bloco de código para todos os elementos de uma lista."
      ],
      "metadata": {
        "id": "o_LordcQaIuG"
      }
    },
    {
      "cell_type": "code",
      "source": [
        "frutas = [\"maça\", \"banana\", \"laranja\", \"uva\", \"pera\"]\n",
        "\n",
        "for fruta in frutas:\n",
        "  print(fruta)"
      ],
      "metadata": {
        "id": "HOd6yHJEdB0D"
      },
      "execution_count": null,
      "outputs": []
    },
    {
      "cell_type": "code",
      "source": [
        "frase = \"Fala pessoal, meu nome é Lorena Pinheiro\"\n",
        "\n",
        "for caracter in frase:  \n",
        "  if (caracter == \"a\") | (caracter == \"o\"):  \n",
        "  print(f'A letra \"{caracter}\" está presente na frase.') \n",
        "\n"
      ],
      "metadata": {
        "id": "H-ku-tcgdnar"
      },
      "execution_count": null,
      "outputs": []
    },
    {
      "cell_type": "code",
      "source": [
        "frase = 'Fala pessoal, meu nome é Lorena Pinheiro.'\n",
        "\n",
        "for caracter in frase:  # para cada letra dessa frase eu vou fazer uma interação\n",
        "  if (caracter == 'F') | (caracter == 'z'):   # se o caracter for igual a a ou for igual a z\n",
        "    print(f\"A letra '{caracter}' está presente na frase.\") # eu vou imprimir isto se for a ou z\n",
        "\n",
        "#f é a interpolação de strings que permite que possa colocar a variável direto sem precisar ficar concatenando strings"
      ],
      "metadata": {
        "id": "XPwZjBVjfDDf"
      },
      "execution_count": null,
      "outputs": []
    },
    {
      "cell_type": "markdown",
      "source": [
        "# **Estrutura repetição for/in/dict**\n",
        "\n",
        "Estrutura que permite a execução de um bloco de código para todos os elementos de um dicionário."
      ],
      "metadata": {
        "id": "1PZBxPWlgIUa"
      }
    },
    {
      "cell_type": "code",
      "source": [
        "credito = {'123': 750, '456': 812, '789': 980}\n",
        "\n",
        "for chave, valor in credito.items():\n",
        "  print(f'Para o documento {chave}, o valor do escore de crédito é {valor}.')\n",
        "  print('\\n') # para pular linha entre as frases"
      ],
      "metadata": {
        "id": "PY4lGIwwgUIy"
      },
      "execution_count": null,
      "outputs": []
    },
    {
      "cell_type": "code",
      "source": [
        "for chave in credito.keys():   # para cada chave no dicionário credito eu executo a seguinte bloco de código\n",
        "  print(chave) # imprime a chave\n",
        "  print(credito[chave]) # imprime o valor atrelado a essa chave\n",
        "  print(f'Para o documento {chave}, o valor do escore de crédito é {credito[chave]}.') \n",
        "  print('\\n')\n"
      ],
      "metadata": {
        "id": "BF7Sdzzihc8a"
      },
      "execution_count": null,
      "outputs": []
    },
    {
      "cell_type": "code",
      "source": [
        "# para pegar apenas os valores dessas chaves. Problema: perde a referência da chave, no entanto você pode estar interessado apenas no valor\n",
        "for valor in credito.values():\n",
        "  print(valor)\n",
        "  print(f'O valor do escore de credito é {valor}, mas não temos mais as chaves :(.')\n",
        "  print('\\n')"
      ],
      "metadata": {
        "id": "YJC8lYYCiqzt"
      },
      "execution_count": null,
      "outputs": []
    },
    {
      "cell_type": "markdown",
      "source": [
        "# **Estrutura repetição break/continue**\n",
        "\n",
        "Estrutura que permite a quebra ou o avanço de um laço de repetição"
      ],
      "metadata": {
        "id": "yPXOl6mijcj0"
      }
    },
    {
      "cell_type": "code",
      "source": [
        "for i in range(0, 10*10*10*10*10*10): # para a variável i num range de 0 até um valor\n",
        "  print(i) # a gente vai imprimir o valor do i até o valor estabelecido, nesse caso 1 milhão de vezes\n",
        "  if i == 10: # caso o valor do i seja igual a 10\n",
        "    break # quebra (Se o i for igual a 2 a gente quebra o loop e não continua a interação)"
      ],
      "metadata": {
        "id": "LaWJSLf4js0g"
      },
      "execution_count": null,
      "outputs": []
    },
    {
      "cell_type": "code",
      "source": [
        "numero = 9\n",
        "\n",
        "if numero % 2 == 0: # % é o módulo\n",
        "  print(f'O número {numero} é par')\n",
        "else:\n",
        "  print(f'O numero {numero} é ímpar')\n"
      ],
      "metadata": {
        "id": "wh4mo_rflCsR"
      },
      "execution_count": null,
      "outputs": []
    },
    {
      "cell_type": "code",
      "source": [
        "numeros = [361, 553, 194, 13, 510, 33, 135]\n",
        "\n",
        "for numero in numeros:\n",
        "  if numero % 2 == 0:\n",
        "    print(f'O número {numero} é par')\n",
        "    break # quando a gente encontrar o primeiro número par a gente para e sai fora do loop\n",
        "  else: # caso contrário, a gente imprime que ele é ímpar\n",
        "    print(f'O número {numero} é ímpar')"
      ],
      "metadata": {
        "id": "6yl7cP2Rltzr"
      },
      "execution_count": null,
      "outputs": []
    },
    {
      "cell_type": "code",
      "source": [
        "numeros = [361, 553, 194, 13, 510, 33, 135]\n",
        "\n",
        "for numero in numeros:\n",
        "  if numero % 2 == 0:\n",
        "    print(f'O número {numero} é par')\n",
        "    break # quando a gente encontrar o primeiro número par a gente para e sai fora do loop\n",
        "  else: # se o número não for par\n",
        "    continue # a gente continua para o próximo número da lista\n",
        "    print(f'O número {numero} é ímpar') # e por isso não imprime essa frase para os dois primeiros números da lista"
      ],
      "metadata": {
        "id": "U6o_Pfezmdbc"
      },
      "execution_count": null,
      "outputs": []
    }
  ]
}