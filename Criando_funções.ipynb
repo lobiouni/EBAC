{
  "nbformat": 4,
  "nbformat_minor": 0,
  "metadata": {
    "colab": {
      "name": "Criando_funções.ipynb",
      "provenance": [],
      "authorship_tag": "ABX9TyM50cf3d3GQdTXi+gLVtn9U",
      "include_colab_link": true
    },
    "kernelspec": {
      "name": "python3",
      "display_name": "Python 3"
    },
    "language_info": {
      "name": "python"
    }
  },
  "cells": [
    {
      "cell_type": "markdown",
      "metadata": {
        "id": "view-in-github",
        "colab_type": "text"
      },
      "source": [
        "<a href=\"https://colab.research.google.com/github/lobiouni/EBAC/blob/main/Criando_fun%C3%A7%C3%B5es.ipynb\" target=\"_parent\"><img src=\"https://colab.research.google.com/assets/colab-badge.svg\" alt=\"Open In Colab\"/></a>"
      ]
    },
    {
      "cell_type": "markdown",
      "source": [
        "# **Motivação 1**\n",
        "Simulação do retorno de um investimento em renda fixa para diversos cenários:"
      ],
      "metadata": {
        "id": "G5fRPZOG4HsP"
      }
    },
    {
      "cell_type": "code",
      "execution_count": null,
      "metadata": {
        "id": "8lzVR7Kk4EMX"
      },
      "outputs": [],
      "source": [
        "IPCA = 0.1020\n",
        "valor_inicial, taxa_juros_anual, anos = 503.16, IPCA + 0.0246, 5\n",
        "\n",
        "valor_final = valor_inicial\n",
        "for ano in range(1, anos+1):\n",
        "  valor_final = valor_final * (1 + taxa_juros_anual)\n",
        "valor_final = round(valor_final, 2)\n",
        "taxa_juros_anual = round(taxa_juros_anual, 2)\n",
        "print(f'Para um valor inicial de R$ {valor_inicial} e uma taxa de juros anual de {taxa_juros_anual}, em {anos} anos você terá R$ {valor_final}')\n",
        "\n",
        "IPCA = 0.1020\n",
        "valor_inicial, taxa_juros_anual, anos = 900.80, IPCA + 0.0355, 15\n",
        "\n",
        "valor_final = valor_inicial\n",
        "for ano in range(1, anos+1):\n",
        "  valor_final = valor_final * (1 + taxa_juros_anual)\n",
        "valor_final = round(valor_final, 2)\n",
        "taxa_juros_anual = round(taxa_juros_anual, 2)\n",
        "print(f'Para um valor inicial de R$ {valor_inicial} e uma taxa de juros anual de {taxa_juros_anual}, em {anos} anos você terá R$ {valor_final}')\n"
      ]
    },
    {
      "cell_type": "markdown",
      "source": [
        "# **Motivação 2**\n",
        "Simulação do aumento das bolsas de pesquisa da FAPESC para o ano de 2022:"
      ],
      "metadata": {
        "id": "FenRjUuiBeBJ"
      }
    },
    {
      "cell_type": "code",
      "source": [
        "valor_inicial, reajuste, anos = 4100, 0.2, 1\n",
        "\n",
        "valor_final = valor_inicial\n",
        "for ano in range(1, anos+1):\n",
        "  valor_final = valor_final * (1 + reajuste)\n",
        "valor_final = round(valor_final, 2)\n",
        "print(f'Para um valor de bolsa igual a R$ {valor_inicial} e reajuste de {reajuste}, o bolsista de pós-doc começa a receber a partir de 2022 R$ {valor_final}')\n",
        "\n",
        "valor_inicial, reajuste, anos = 2200, 0.2, 1\n",
        "\n",
        "valor_final = valor_inicial\n",
        "for ano in range(1, anos+1):\n",
        "  valor_final = valor_final * (1 + reajuste)\n",
        "valor_final = round(valor_final, 2)\n",
        "print(f'Para um valor de bolsa igual a R$ {valor_inicial} e reajuste de {reajuste}, o bolsista de doutorado começa a receber a partir de 2022 R$ {valor_final}')\n",
        "\n",
        "valor_inicial, reajuste, anos = 1500, 0.2, 1\n",
        "\n",
        "valor_final = valor_inicial\n",
        "for ano in range(1, anos+1):\n",
        "  valor_final = valor_final * (1 + reajuste)\n",
        "valor_final = round(valor_final, 2)\n",
        "print(f'Para um valor de bolsa igual a R$ {valor_inicial} e reajuste de {reajuste}, o bolsista de mestrado começa a receber a partir de 2022 R$ {valor_final}')"
      ],
      "metadata": {
        "id": "PB9hQC_i-Wj7"
      },
      "execution_count": null,
      "outputs": []
    },
    {
      "cell_type": "markdown",
      "source": [
        "Como podemos fazer para reaproveitar o código e evitar repetições? Através da construção de uma função. Vamos praticar escrevendo algumas funções simples, para entender a lógica e assim tentar construir uma função para o retorno de um investimento e para o reajuste de bolsas da FAPESC. "
      ],
      "metadata": {
        "id": "HFCQJhW2BIl3"
      }
    },
    {
      "cell_type": "code",
      "source": [
        "def imprime(mensagem:str): # aqui estou especificando o tipo da mensagem\n",
        "  print(mensagem)\n",
        "\n",
        "texto='Fala pessoal, meu nome é Lorena Pinheiro Silva'\n",
        "imprime(texto)"
      ],
      "metadata": {
        "id": "t9ySsVAADR6C"
      },
      "execution_count": null,
      "outputs": []
    },
    {
      "cell_type": "code",
      "source": [
        "def maiusculo(texto: str) -> str: # aqui, além de especificar o tipo do texto, também estou especificando o tipo do retorno (não é necessário mas é recomendado)\n",
        "  text_maiusculo = texto.upper()\n",
        "  return text_maiusculo # importante especificar o retorno, senão a saída será \"none\"\n",
        "\n",
        "nome = \"Lorena Pinheiro Silva\"\n",
        "print(nome)\n",
        "\n",
        "maiusculo(texto=nome)"
      ],
      "metadata": {
        "id": "E1UavSX-EJQU"
      },
      "execution_count": null,
      "outputs": []
    },
    {
      "cell_type": "code",
      "source": [
        "def extrair_usuario_email_provedor (email:str) -> (str, str): # toda vez que tiver um múltiplo retorno, tem que colocar entre parentesis\n",
        "  email_separado = email.split(sep='@') # Estou indicando aonde vai ser a quebra\n",
        "  usuario = email_separado[0] # aqui estou atruibuindo o usuário ao primeiro elemento da lista\n",
        "  provedor = email_separado[1] # aqui estou atruibuindo o provedor ao segundo elemento da lista\n",
        "  return usuario, provedor\n",
        "\n",
        "email = 'lorena.biouni@gmail.com'\n",
        "extrair_usuario_email_provedor(email=email)"
      ],
      "metadata": {
        "colab": {
          "base_uri": "https://localhost:8080/"
        },
        "id": "XT_jNy5sGxuh",
        "outputId": "d9e35254-2ac8-4a6a-edb6-35a4c38f3dcf"
      },
      "execution_count": 30,
      "outputs": [
        {
          "output_type": "execute_result",
          "data": {
            "text/plain": [
              "('lorena.biouni', 'gmail.com')"
            ]
          },
          "metadata": {},
          "execution_count": 30
        }
      ]
    },
    {
      "cell_type": "code",
      "source": [
        "# Se eu quiser retornar um objeto de cada vez\n",
        "\n",
        "usuario, provedor = extrair_usuario_email_provedor(email=email)\n",
        "print(usuario)\n",
        "print(provedor)"
      ],
      "metadata": {
        "colab": {
          "base_uri": "https://localhost:8080/"
        },
        "id": "9dihBEv-IJ5y",
        "outputId": "29cb20a6-19f1-46ab-f05d-e7db94c2d706"
      },
      "execution_count": 31,
      "outputs": [
        {
          "output_type": "stream",
          "name": "stdout",
          "text": [
            "lorena.biouni\n",
            "gmail.com\n"
          ]
        }
      ]
    },
    {
      "cell_type": "markdown",
      "source": [
        "Criando funções com parâmetros"
      ],
      "metadata": {
        "id": "paIxZ9hcLZHC"
      }
    },
    {
      "cell_type": "code",
      "source": [
        "def escreve_arquivo_csv(nome: str, cabecalho: str, conteudos: list) -> bool: # aqui está passando uma função para escrever um arquivo csv. O tipo de retorno é um objeto booleano pq aqui o interesse é saber se deu certo ou não.\n",
        "\n",
        "  try: \n",
        "\n",
        "    with open(file=nome, mode='w', encoding='utf8') as fp:\n",
        "      linha = cabecalho + '\\n' # a primeira linha é o cabeçalho + o \\n para poder pular a linha\n",
        "      fp.write(linha) # escrevo essa linha\n",
        "      for conteudo in conteudos: # para cada conteúdo dentro da minha lsita de conteúdos \n",
        "        linha = str(conteudo) + '\\n' # eu crio um linha nova\n",
        "        fp.write(linha) # e escrevo nessa linha\n",
        "\n",
        "  except Exception as exc: # incluindo um erro genérico (exceção)\n",
        "    \n",
        "    print(exc) # caso dê algum erro na hora de excutar esse blobo de código, estou pedindo para mostrar que erro deu\n",
        "    return False # e que não foi possível excutar o processo de escrita do csv\n",
        "\n",
        "  return True # caso dê tudo certo, estou pedindo para indicar que foi possível exeutar o processo de escrita do csv"
      ],
      "metadata": {
        "id": "wKaelZdvLbdM"
      },
      "execution_count": 38,
      "outputs": []
    },
    {
      "cell_type": "code",
      "source": [
        "nome = 'idades-funcao.csv'\n",
        "cabecalho = 'idade'\n",
        "conteudos = [30, 33, 35, 30, 59, 35, 36, 39, 41, 43]\n",
        "\n",
        "escreveu_com_sucesso = escreve_arquivo_csv(nome=nome, cabecalho=cabecalho, conteudos=conteudos)\n",
        "print(escreveu_com_sucesso)"
      ],
      "metadata": {
        "colab": {
          "base_uri": "https://localhost:8080/"
        },
        "id": "Rb7OY3rsLeP0",
        "outputId": "590a652a-50e1-4f94-d893-52c829da8c59"
      },
      "execution_count": 39,
      "outputs": [
        {
          "output_type": "stream",
          "name": "stdout",
          "text": [
            "True\n"
          ]
        }
      ]
    },
    {
      "cell_type": "code",
      "source": [
        "nome = 'idades-funcao.csv'\n",
        "cabecalho = 'idade'\n",
        "conteudos = 10\n",
        "\n",
        "escreveu_com_sucesso = escreve_arquivo_csv(nome=nome, cabecalho=cabecalho, conteudos=conteudos)\n",
        "print(escreveu_com_sucesso)"
      ],
      "metadata": {
        "colab": {
          "base_uri": "https://localhost:8080/"
        },
        "id": "GxWEkxgXMBe9",
        "outputId": "0eae1f2a-9844-425a-e3c7-d48902085e15"
      },
      "execution_count": 42,
      "outputs": [
        {
          "output_type": "stream",
          "name": "stdout",
          "text": [
            "'int' object is not iterable\n",
            "False\n"
          ]
        }
      ]
    },
    {
      "cell_type": "code",
      "source": [
        "nome = 'nomes-funcao.csv'\n",
        "cabecalho = 'nome'\n",
        "nomes = ['Lorena', 'Henrique', 'Fernanda', \"Jéssica\"]\n",
        "\n",
        "escreveu_com_sucesso = escreve_arquivo_csv(nome=nome, cabecalho=cabecalho, conteudos=nomes)\n",
        "print(escreveu_com_sucesso)"
      ],
      "metadata": {
        "colab": {
          "base_uri": "https://localhost:8080/"
        },
        "id": "JvC_7JOHLo3_",
        "outputId": "f5139922-c866-4e31-8747-45a147eb6745"
      },
      "execution_count": 41,
      "outputs": [
        {
          "output_type": "stream",
          "name": "stdout",
          "text": [
            "True\n"
          ]
        }
      ]
    },
    {
      "cell_type": "markdown",
      "source": [
        "# **Revisitando a motivação 1**"
      ],
      "metadata": {
        "id": "F8NULkCRMPu6"
      }
    },
    {
      "cell_type": "code",
      "source": [
        "def juros_compostos_anual(valor_inicial: float, taxa_juros_anual: float, anos: int) -> float:\n",
        "  valor_final = valor_inicial\n",
        "  for ano in range(1, anos+1):\n",
        "    valor_final = valor_final * (1 + taxa_juros_anual)\n",
        "  valor_final = round(valor_final, 2)\n",
        "  taxa_juros_anual = round(taxa_juros_anual, 2)\n",
        "  print(f'Para um valor inicial de R$ {valor_inicial} e uma taxa de juros anual de {taxa_juros_anual}, em {anos} anos você terá R$ {valor_final}')\n",
        "  return valor_final"
      ],
      "metadata": {
        "id": "uvN1WLiFMPMC"
      },
      "execution_count": 43,
      "outputs": []
    },
    {
      "cell_type": "code",
      "source": [
        "IPCA = 0.1020\n",
        "valor_inicial, taxa_juros_anual, anos = 503.16, IPCA + 0.0246, 5\n",
        "valor_final = juros_compostos_anual(valor_inicial=valor_inicial, taxa_juros_anual=taxa_juros_anual, anos=anos)"
      ],
      "metadata": {
        "colab": {
          "base_uri": "https://localhost:8080/"
        },
        "id": "csJPf6VINLae",
        "outputId": "980c5b13-9e13-4ea8-b6ce-44ee4f1ea6f0"
      },
      "execution_count": 45,
      "outputs": [
        {
          "output_type": "stream",
          "name": "stdout",
          "text": [
            "Para um valor inicial de R$ 503.16 e uma taxa de juros anual de 0.13, em 5 anos você terá R$ 913.18\n"
          ]
        }
      ]
    },
    {
      "cell_type": "code",
      "source": [
        "IPCA = 0.1020\n",
        "valor_inicial, taxa_juros_anual, anos = 900.80, IPCA + 0.0355, 15\n",
        "valor_final = juros_compostos_anual(valor_inicial=valor_inicial, taxa_juros_anual=taxa_juros_anual, anos=anos)"
      ],
      "metadata": {
        "colab": {
          "base_uri": "https://localhost:8080/"
        },
        "id": "AlUG3brFN0ci",
        "outputId": "332b6159-20a2-49ce-a1db-5f55a66429a5"
      },
      "execution_count": 46,
      "outputs": [
        {
          "output_type": "stream",
          "name": "stdout",
          "text": [
            "Para um valor inicial de R$ 900.8 e uma taxa de juros anual de 0.14, em 15 anos você terá R$ 6221.56\n"
          ]
        }
      ]
    },
    {
      "cell_type": "markdown",
      "source": [
        "# **Revisitando a motivação 2**"
      ],
      "metadata": {
        "id": "7a6UCGfGN_h4"
      }
    },
    {
      "cell_type": "code",
      "source": [
        "def reajuste_bolsa(valor_inicial: float, reajuste: float, tipo:str) -> float:\n",
        "  valor_final = valor_inicial\n",
        "  tipo=tipo\n",
        "  for valor in range(1):\n",
        "    valor_final = valor_final * (1 + reajuste)\n",
        "  valor_final = round(valor_final, 2)\n",
        "  print(f'Para um valor de bolsa igual a R$ {valor_inicial} e reajuste de {reajuste}, o bolsista de {tipo} começa a receber a partir de 2022 R$ {valor_final}')\n",
        "  return valor_final"
      ],
      "metadata": {
        "id": "98It-aT-OCVK"
      },
      "execution_count": 56,
      "outputs": []
    },
    {
      "cell_type": "code",
      "source": [
        "valor_inicial, reajuste, tipo = 4100, 0.2, 'pós-doc'\n",
        "valor_final = reajuste_bolsa(valor_inicial=valor_inicial, reajuste=reajuste, tipo=tipo)"
      ],
      "metadata": {
        "colab": {
          "base_uri": "https://localhost:8080/"
        },
        "id": "r2_73z0PPFvp",
        "outputId": "900fbab6-b498-475b-b08a-0650c2cc730f"
      },
      "execution_count": 57,
      "outputs": [
        {
          "output_type": "stream",
          "name": "stdout",
          "text": [
            "Para um valor de bolsa igual a R$ 4100 e reajuste de 0.2, o bolsista de pós-doc começa a receber a partir de 2022 R$ 4920.0\n"
          ]
        }
      ]
    },
    {
      "cell_type": "code",
      "source": [
        "valor_inicial, reajuste, tipo = 2200, 0.2, 'doutorado'\n",
        "valor_final = reajuste_bolsa(valor_inicial=valor_inicial, reajuste=reajuste, tipo=tipo)"
      ],
      "metadata": {
        "colab": {
          "base_uri": "https://localhost:8080/"
        },
        "id": "atpsJWIhP6Fs",
        "outputId": "c37f4b29-2963-42fe-9520-2befb1b91186"
      },
      "execution_count": 58,
      "outputs": [
        {
          "output_type": "stream",
          "name": "stdout",
          "text": [
            "Para um valor de bolsa igual a R$ 2200 e reajuste de 0.2, o bolsista de doutorado começa a receber a partir de 2022 R$ 2640.0\n"
          ]
        }
      ]
    },
    {
      "cell_type": "code",
      "source": [
        "valor_inicial, reajuste, tipo = 1500, 0.2, 'mestrado'\n",
        "valor_final = reajuste_bolsa(valor_inicial=valor_inicial, reajuste=reajuste, tipo=tipo)"
      ],
      "metadata": {
        "colab": {
          "base_uri": "https://localhost:8080/"
        },
        "id": "r0UKUxY4P_V4",
        "outputId": "2e3d69b8-c122-49f5-84ab-8b95b1024bc3"
      },
      "execution_count": 59,
      "outputs": [
        {
          "output_type": "stream",
          "name": "stdout",
          "text": [
            "Para um valor de bolsa igual a R$ 1500 e reajuste de 0.2, o bolsista de mestrado começa a receber a partir de 2022 R$ 1800.0\n"
          ]
        }
      ]
    }
  ]
}