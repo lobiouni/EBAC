{
  "nbformat": 4,
  "nbformat_minor": 0,
  "metadata": {
    "colab": {
      "name": "Escrita_arquivos.ipynb",
      "provenance": [],
      "authorship_tag": "ABX9TyPS7mAIog6a0pwJCS27F3DG",
      "include_colab_link": true
    },
    "kernelspec": {
      "name": "python3",
      "display_name": "Python 3"
    },
    "language_info": {
      "name": "python"
    }
  },
  "cells": [
    {
      "cell_type": "markdown",
      "metadata": {
        "id": "view-in-github",
        "colab_type": "text"
      },
      "source": [
        "<a href=\"https://colab.research.google.com/github/lobiouni/EBAC/blob/main/Escrita_arquivos.ipynb\" target=\"_parent\"><img src=\"https://colab.research.google.com/assets/colab-badge.svg\" alt=\"Open In Colab\"/></a>"
      ]
    },
    {
      "cell_type": "markdown",
      "source": [
        "# **1. Configuração inicial**"
      ],
      "metadata": {
        "id": "MAAHfmVKLqzp"
      }
    },
    {
      "cell_type": "code",
      "metadata": {
        "id": "vr4DaExbiyCr",
        "colab": {
          "base_uri": "https://localhost:8080/"
        },
        "outputId": "07e17f1b-ca34-4e82-d58c-dafdbf2b4321"
      },
      "source": [
        "# Atenção: isso não é um código Python e sim do Google Colab (cada vírgula representa uma coluna)\n",
        "%%writefile banco.csv\n",
        "age,job,marital,education,default,balance,housing,loan\n",
        "30,unemployed,married,primary,no,1787,no,no\n",
        "33,services,married,secondary,no,4789,yes,yes\n",
        "35,management,single,tertiary,no,1350,yes,no\n",
        "30,management,married,tertiary,no,1476,yes,yes\n",
        "59,blue-collar,married,secondary,no,0,yes,no\n",
        "35,management,single,tertiary,no,747,no,no\n",
        "36,self-employed,married,tertiary,no,307,yes,no\n",
        "39,technician,married,secondary,no,147,yes,no\n",
        "41,entrepreneur,married,tertiary,no,221,yes,no\n",
        "43,services,married,primary,no,-88,yes,yes"
      ],
      "execution_count": 1,
      "outputs": [
        {
          "output_type": "stream",
          "name": "stdout",
          "text": [
            "Writing banco.csv\n"
          ]
        }
      ]
    },
    {
      "cell_type": "markdown",
      "source": [
        "# **2. with/open**\n",
        "\n",
        "Comando para ler/escrever arquivos.\n",
        "\n",
        "\n",
        "\n",
        "```\n",
        "with open(file='<caminho do arquivo do arquivo>', mode='<modo de leitura/escrita>', encoding='<decodificador>') as <apelido>:\n",
        "  bloco de código\n",
        "```\n",
        "Os modos de leitura são:\n",
        "\n",
        "\n",
        "*   r: Abrir o arquivo para leitura (padrão)\n",
        "*   w: Abrir o arquivo para escrita (sobreescreve o arquivo original)\n",
        "*   a: Abrir o arquivo para acrescentar (não sobreescreve o arquivo original)\n",
        "\n",
        "\n",
        "\n",
        "\n",
        "\n"
      ],
      "metadata": {
        "id": "MUwx5HbHJ6JY"
      }
    },
    {
      "cell_type": "markdown",
      "source": [
        "# **3. Write**\n",
        "\n",
        "Comando para escrever em um arquivo, se o arquivo não existir, ele será criado."
      ],
      "metadata": {
        "id": "Xx7vEmFtKqcS"
      }
    },
    {
      "cell_type": "markdown",
      "source": [
        "\n",
        "\n",
        "*   Modo de escrita 'w': apaga o arquivo original e escreve do começo\n",
        "\n"
      ],
      "metadata": {
        "id": "2FX4njwMLE5v"
      }
    },
    {
      "cell_type": "code",
      "source": [
        "idades = []\n",
        "\n",
        "with open(file ='./banco.csv', mode='r', encoding='utf8') as arquivo:\n",
        "  linha = arquivo.readline() # lê o cabeçalho\n",
        "  linha = arquivo.readline() # lê a primeira linha\n",
        "  while linha:\n",
        "    linha_separada = linha.split(sep = ',') # quebra a string nas vírgulas e salva os resultados em uma lista (uma lista para idade, uma para trabalho, ...). Ou seja, cada elemento da linha vira uma lista\n",
        "    idade = linha_separada[0] # seleciona o primeiro elemento da lista que é o que interessa (idade)\n",
        "    idade = int(idade) # converte o valor de string para integer (inteiro)\n",
        "    idades.append(idade) # salva o valor na lista 'idades'\n",
        "    linha = arquivo.readline() # lê uma nova linha, se a linha não existir, salva o valor None\n",
        "\n",
        "print(idades)"
      ],
      "metadata": {
        "id": "h9ToJDC2NhqI"
      },
      "execution_count": null,
      "outputs": []
    },
    {
      "cell_type": "code",
      "execution_count": 11,
      "metadata": {
        "id": "ExxC6UBXJ1yE"
      },
      "outputs": [],
      "source": [
        "with open(file='idades.csv', mode='w', encoding='utf8') as fp: # fb=padrão para nomenclatura de arquivos (file pointer)\n",
        "  linha = 'idade' + '\\n' # construindo cabeçalho. Sempre lembrar de adicionar o '\\n' para garantir que de fato está trocando de linha\n",
        "  fp.write(linha) # escreve a primeira linha idade\n",
        "  for idade in idades: # laço de repetição em cima da lista idades que foi extraida aula passada. Para cada idade em idades\n",
        "    linha=str(idade) + '\\n' # a gente cria uma nova linha que será composta pela idade (transformada em string)\n",
        "    fp.write(linha) # escreve a linha"
      ]
    },
    {
      "cell_type": "markdown",
      "source": [
        "\n",
        "\n",
        "*   Modo de escrita 'a': começa a escrever a partir do final da linha\n",
        "\n"
      ],
      "metadata": {
        "id": "7354zvsmLVBC"
      }
    },
    {
      "cell_type": "code",
      "source": [
        "with open(file='idades.csv', mode='a', encoding='utf8') as fp: # os elementos serão adicionados no final da linha\n",
        "  for idade in idades: # pra cada idade em idades\n",
        "    linha=str(idade + 100) + '\\n' # vai escrever uma linha com a idade + 100\n",
        "    fp.write(linha)"
      ],
      "metadata": {
        "id": "LgO2KA_GO-0V"
      },
      "execution_count": 10,
      "outputs": []
    },
    {
      "cell_type": "markdown",
      "source": [
        "ATENÇÃO: se eu utilizar novamento o método 'w', eu vou apagar o arquivo original e sobreescrever. "
      ],
      "metadata": {
        "id": "jteLJuDuP5mi"
      }
    },
    {
      "cell_type": "code",
      "execution_count": null,
      "metadata": {
        "id": "E9thFP1lP3I1"
      },
      "outputs": [],
      "source": [
        "with open(file='idades.csv', mode='w', encoding='utf8') as fp: # fb=padrão para nomenclatura de arquivos (file pointer)\n",
        "  linha = 'idade' + '\\n' # construindo cabeçalho. Sempre lembrar de adicionar o '\\n' para garantir que de fato está trocando de linha\n",
        "  fp.write(linha) # escreve a primeira linha idade\n",
        "  for idade in idades: # laço de repetição em cima da lista idades que foi extraida aula passada. Para cada idade em idades\n",
        "    linha=str(idade) + '\\n' # a gente cria uma nova linha que será composta pela idade (transformada em string)\n",
        "    fp.write(linha) # escreve a linha"
      ]
    },
    {
      "cell_type": "markdown",
      "source": [
        "Exemplo: Copiando um arquivo com uma extensão diferente.\n",
        "\n",
        "\n"
      ],
      "metadata": {
        "id": "oamYUv0SQK3m"
      }
    },
    {
      "cell_type": "code",
      "source": [
        "%%writefile banco-texto.txt\n",
        "age,job,marital,education,default,balance,housing,loan\n",
        "30,unemployed,married,primary,no,1787,no,no\n",
        "33,services,married,secondary,no,4789,yes,yes\n",
        "35,management,single,tertiary,no,1350,yes,no\n",
        "30,management,married,tertiary,no,1476,yes,yes\n",
        "59,blue-collar,married,secondary,no,0,yes,no\n",
        "35,management,single,tertiary,no,747,no,no\n",
        "36,self-employed,married,tertiary,no,307,yes,no\n",
        "39,technician,married,secondary,no,147,yes,no\n",
        "41,entrepreneur,married,tertiary,no,221,yes,no\n",
        "43,services,married,primary,no,-88,yes,yes"
      ],
      "metadata": {
        "colab": {
          "base_uri": "https://localhost:8080/"
        },
        "id": "PMWArmQQQUFe",
        "outputId": "c3964abd-9f8e-4a81-eebd-62745ae9363f"
      },
      "execution_count": 12,
      "outputs": [
        {
          "output_type": "stream",
          "name": "stdout",
          "text": [
            "Writing banco-texto.txt\n"
          ]
        }
      ]
    },
    {
      "cell_type": "markdown",
      "source": [
        "Se der dois cliques e abrir o arquvo vai ver o python não conseguiu entender a extensão do arquivo. Tem duas formas de resolver isso: \n",
        "\n",
        "\n",
        "1.   Renomear o arquivo de txt para csv no canti esquerdo\n",
        "2.   Fazer isso através de código\n",
        "\n",
        "Abordagem: copiar um arquivo de um formato para o outro (.txt -> .csv), e agora o arquivo tá na extensão correta (.csv).\n",
        "\n",
        "1. abrir o arquivo .txt no modo de leitura e nomear 'leitura'\n",
        "2. abrir um arquivo não existente chamado banco-csv no modo de escrita e nomear 'escrita'\n",
        "3. criar uma variavel chamada linha e atribuir a primeira linha do arquivo de leitura\n",
        "4. enquanto a linha tiver algum tipo de valor faz a operação, lê a próxima linha e fica iterando até que não tenha mais linhas\n",
        "5. Em cada iteração, será escrito no arquivo de escrita a linha que acabou de ler no arquivo de leitura. Ou seja, cada linha do arquivo de leitura será escrita no arquivo de escrita\n"
      ],
      "metadata": {
        "id": "XQvtoN0YQ1jB"
      }
    },
    {
      "cell_type": "code",
      "source": [
        "with open (file='./banco-texto.txt', mode='r', encoding='utf8') as leitura: # abrir o arquivo .txt no modo de leitura e nomear 'leitura'\n",
        "  with open(file='./banco-csv.csv', mode='w', encoding='utf8') as escrita: # abrir um arquivo não existente chamado banco-csv no modo de escrita e nomear 'escrita'\n",
        "    linha = leitura.readline() # criar uma variavel chamada linha e atribui a primeira linha do arquivo de leitura\n",
        "    while linha: # enquanto a linha tiver algum tipo de valor a gente faz uma operação até que não tenha mais linhas\n",
        "      escrita.write(linha) # para cada linha do arquivo de leitura será escrita no arquivo de escrita\n",
        "      linha = leitura.readline() # lê a próxima linha"
      ],
      "metadata": {
        "id": "GQmh5zVcRqaV"
      },
      "execution_count": 13,
      "outputs": []
    }
  ]
}