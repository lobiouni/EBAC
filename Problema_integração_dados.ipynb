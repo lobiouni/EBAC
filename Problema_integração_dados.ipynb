{
  "nbformat": 4,
  "nbformat_minor": 0,
  "metadata": {
    "colab": {
      "name": "Problema_integração_dados.ipynb",
      "provenance": [],
      "collapsed_sections": [],
      "authorship_tag": "ABX9TyMwmd53aYqKWPY/aYU/F9vm",
      "include_colab_link": true
    },
    "kernelspec": {
      "name": "python3",
      "display_name": "Python 3"
    },
    "language_info": {
      "name": "python"
    }
  },
  "cells": [
    {
      "cell_type": "markdown",
      "metadata": {
        "id": "view-in-github",
        "colab_type": "text"
      },
      "source": [
        "<a href=\"https://colab.research.google.com/github/lobiouni/EBAC/blob/main/Problema_integra%C3%A7%C3%A3o_dados.ipynb\" target=\"_parent\"><img src=\"https://colab.research.google.com/assets/colab-badge.svg\" alt=\"Open In Colab\"/></a>"
      ]
    },
    {
      "cell_type": "markdown",
      "source": [
        "# **Problema de integração de dados**\n",
        "\n",
        "A empresa que você trabalha adiquiriu ma startaup de logística. Você precisa identificar todos os endereços que são comum a ambas. Na sua empresa, você armazena a latitude e longitude dos endereços em duas variáveis lat e lon, já a startup adiquirida em uma única variável latlon. Como podemos normalizar a froma com que as latitudes e longitudes são armazenadas para que possam ser comparadas?"
      ],
      "metadata": {
        "id": "Du0XJTT7Z1qF"
      }
    },
    {
      "cell_type": "markdown",
      "source": [
        "# **Aula**"
      ],
      "metadata": {
        "id": "PY2S0APUmJkc"
      }
    },
    {
      "cell_type": "code",
      "source": [
        "# Concatenação\n",
        "nome = \"Lorena\"\n",
        "sobrenome = \"Pinheiro-Silva\"\n",
        "\n",
        "apresentacao = \"Olá, meu nome é \" + nome + \" \" + sobrenome + \".\"\n",
        "print(apresentacao)\n",
        "\n",
        "# Ormatação\n",
        "apresentacao = f\"Olá, meu nome é {nome} {sobrenome}.\"\n",
        "print(apresentacao)\n",
        "\n",
        "# Fatiamento (slicing) fixo\n",
        "email = \"lorena.biouni@gmail.com\"\n",
        "print(\"o: \" + email[0])\n",
        "print(\"11: \" + email[11])\n",
        "\n",
        "print(\"-1: \" + email[-1]) #de trás pra frente\n",
        "print(\"-2: \" + email[-2])\n",
        "\n",
        "# Fatiamento (slicing) por intervalo\n",
        "# email[i:f]; f=num-1; i=0, f=5; intervalo=0-4\n",
        "email_usuario = email[0:13]\n",
        "print(email_usuario)\n",
        "email_provedor = email[14:25]\n",
        "print(email_provedor)\n",
        "\n",
        "# Funções exclusivas de strings\n",
        "# 1. Maiúsculo (Forma de normalizar strings - boa prática!)\n",
        "endereco = \"Avenida Paulista, 1811, São Paulo, Brasil\"\n",
        "print(endereco.upper())\n",
        "\n",
        "# Posição (ajuda a descobrir se a palavra está presente e a posição dela)\n",
        "posicao = endereco.find(\"Lorena\")\n",
        "print(posicao)\n",
        "\n",
        "posicao = endereco.find(\"Avenida\")\n",
        "print(posicao)\n",
        "\n",
        "# Substituição (Forma de normalizar strings)\n",
        "print(endereco.replace(\"Avenida\", \"Av.\"))\n",
        "\n",
        "# Conversão (conversão de texto em número)\n",
        "faturamento = \"R$ 35 mi\"\n",
        "print(faturamento)\n",
        "print(type(faturamento))\n",
        "\n",
        "faturamento = int(faturamento[3:5]) #usando a função slice para selecionar o 35\n",
        "print(faturamento)\n",
        "print(type(faturamento))"
      ],
      "metadata": {
        "id": "n2jtW39Eaqb6"
      },
      "execution_count": null,
      "outputs": []
    },
    {
      "cell_type": "markdown",
      "source": [
        "# **Resolvendo o problema de integração de dados**\n",
        "\n",
        "Abordagem: normalizar a forma que está utilizando os strings pegando o formato da startup e mapear ele pro formato da empresa.\n",
        "\n",
        "Estratégia: \n",
        "\n",
        "\n",
        "1. Encontrar a posição do character (;) de divisão das strings de latitude e longitude da variável da startup\n",
        "2. Extrair a latitude\n",
        "3. Extrair a longitude\n",
        "\n",
        "\n",
        "\n"
      ],
      "metadata": {
        "id": "Ot68LQErmB2g"
      }
    },
    {
      "cell_type": "code",
      "source": [
        "# Sua empresa\n",
        "lat = \"-22.005320\"\n",
        "lon = \"-47.891040\"\n",
        "\n",
        "# Startup adiquirida\n",
        "latlon = \"-22.0053220;-47.891040\"\n",
        "\n",
        "print(lat)\n",
        "print(lon)\n",
        "print(latlon)\n",
        "\n",
        "print(type(lat))\n",
        "print(type(lon))\n",
        "print(type(latlon))\n",
        "\n",
        "# 1. Encontrar a posição do character (;) de divisão das strings de latitude e longitude da variável da startup\n",
        "posicao_char_divisao = latlon.find(\";\")\n",
        "print(posicao_char_divisao)\n",
        "\n",
        "# 2. Extrair a latitude\n",
        "lat_startup = latlon[0:posicao_char_divisao]\n",
        "print(lat_startup)\n",
        "\n",
        "# 3. Extrair a longitude\n",
        "lon_startup = latlon[posicao_char_divisao+1:len(latlon)]\n",
        "print(lon_startup)\n",
        "\n",
        "\n"
      ],
      "metadata": {
        "id": "Ix1GsIQDmHNW"
      },
      "execution_count": null,
      "outputs": []
    }
  ]
}