{
  "nbformat": 4,
  "nbformat_minor": 0,
  "metadata": {
    "colab": {
      "name": "Modulo1.ipynb",
      "provenance": [],
      "collapsed_sections": [],
      "authorship_tag": "ABX9TyNYuT0OviKW/uRyp6M9TZ8P",
      "include_colab_link": true
    },
    "kernelspec": {
      "name": "python3",
      "display_name": "Python 3"
    },
    "language_info": {
      "name": "python"
    }
  },
  "cells": [
    {
      "cell_type": "markdown",
      "metadata": {
        "id": "view-in-github",
        "colab_type": "text"
      },
      "source": [
        "<a href=\"https://colab.research.google.com/github/lobiouni/EBAC/blob/main/Modulo1.ipynb\" target=\"_parent\"><img src=\"https://colab.research.google.com/assets/colab-badge.svg\" alt=\"Open In Colab\"/></a>"
      ]
    },
    {
      "cell_type": "markdown",
      "source": [
        "Problema de integração\n",
        "\n",
        "A empresa que você trabalha adiquiriu ma startaup de logística. Você precisa identificar todos os endereços que são comum a ambas. Na sua empresa, você armazena a latitude e longitude dos endereços em duas variáveis lat e lon, já a startup adiquirida em uma única variável latlon. Como podemos normalizar a froma com que as latitudes e longitudes são armazenadas para que possam ser comparadas?"
      ],
      "metadata": {
        "id": "Du0XJTT7Z1qF"
      }
    },
    {
      "cell_type": "code",
      "source": [
        "# Sua empresa\n",
        "lat = '-22.005320'\n",
        "lon = '-47.891040'\n",
        "\n",
        "# Startup adiquirida\n",
        "latlon = '-22.0053220;-47.891040'\n",
        "\n",
        "print(lat)\n",
        "print(lon)\n",
        "print(latlon)\n",
        "\n",
        "print(type(lat))\n",
        "print(type(lon))\n",
        "print(type(latlon))"
      ],
      "metadata": {
        "colab": {
          "base_uri": "https://localhost:8080/"
        },
        "id": "n2jtW39Eaqb6",
        "outputId": "c67a4bed-4a75-47c1-9a0d-fb9aec3c6e88"
      },
      "execution_count": 7,
      "outputs": [
        {
          "output_type": "stream",
          "name": "stdout",
          "text": [
            "-22.005320\n",
            "-47.891040\n",
            "-22.0053220;-47.891040\n",
            "<class 'str'>\n",
            "<class 'str'>\n",
            "<class 'str'>\n"
          ]
        }
      ]
    }
  ]
}