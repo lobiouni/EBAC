{
  "nbformat": 4,
  "nbformat_minor": 0,
  "metadata": {
    "colab": {
      "name": "Dados_hierarquicos.ipynb",
      "provenance": [],
      "authorship_tag": "ABX9TyNTcMLUhguwmPYwT/A6AVTa",
      "include_colab_link": true
    },
    "kernelspec": {
      "name": "python3",
      "display_name": "Python 3"
    },
    "language_info": {
      "name": "python"
    }
  },
  "cells": [
    {
      "cell_type": "markdown",
      "metadata": {
        "id": "view-in-github",
        "colab_type": "text"
      },
      "source": [
        "<a href=\"https://colab.research.google.com/github/lobiouni/EBAC/blob/main/Dados_hierarquicos.ipynb\" target=\"_parent\"><img src=\"https://colab.research.google.com/assets/colab-badge.svg\" alt=\"Open In Colab\"/></a>"
      ]
    },
    {
      "cell_type": "markdown",
      "source": [
        "# **Armazenamento de dados hierárquicos**\n",
        "\n",
        "Para se conectar a uma rede wi-fi, você precisa de duas informações: o nome da rede e a senha de acesso. Quando você vai acessar uma nova rede, você encontra uma lista de redes disponíveis:"
      ],
      "metadata": {
        "id": "bGbXP5n5Kygu"
      }
    },
    {
      "cell_type": "code",
      "execution_count": null,
      "metadata": {
        "id": "g537mRbzKjGb"
      },
      "outputs": [],
      "source": [
        "wifi_disponiveis = [\"rede1\", \"cnx_cnx\", \"uai-fi\", \"r3d3\"]\n",
        "print(wifi_disponiveis)"
      ]
    },
    {
      "cell_type": "markdown",
      "source": [
        "Você consegue identificar quais são os nomes de redes e suas respectivas senhas? Talvez uma list não seja a melhor opção para armazenar esse tipo de dado que apresenta profundidade (relação, ordem). Qual é então a estrutura do Python indicada para armazenar esse tipo de informação?"
      ],
      "metadata": {
        "id": "dy8sC60MLYZ7"
      }
    },
    {
      "cell_type": "code",
      "source": [
        "## Trabalhando com dicionários: armazenam sequências de variáveis no formato chave-valor\n",
        "\n",
        "brasil = {\"Capital\": \"Brasília\", \n",
        "          \"idioma\": \"Português\", \n",
        "          \"População\": \"210 milhões\"}\n",
        "print(brasil)\n",
        "print(type(brasil))\n",
        "\n",
        "# Obs: não é permitido chaves (Capital, Idioma, População) duplicadas. O Python descarta a primeira chave.\n",
        "\n",
        "carro = {\"marca\": \"Volkswagen\",\n",
        "         \"modelo\": \"Polo\", \n",
        "         \"ano\": \"2021\", \n",
        "         \"ano\": \"2004\"    \n",
        "}\n",
        "print(carro)"
      ],
      "metadata": {
        "id": "Y47BfQ7hLYHI"
      },
      "execution_count": null,
      "outputs": []
    },
    {
      "cell_type": "code",
      "source": [
        "# 1. Dicionários compostos\n",
        "cadastro = {\n",
        "    \"Lorena\": {\n",
        "        \"nome\": \"Lorena Pinheiro Silva\",\n",
        "        \"ano_nascimento\": 1988,\n",
        "        \"pais\": {\n",
        "            \"pai\": {\n",
        "                \"nome\": \"Claudio Luiz Silva\",\n",
        "                \"ano_nascimento\": 1961\n",
        "            }, \n",
        "            \"mãe\": {\n",
        "                \"nome\": \"Bianca Regina da Silva Pinheiro\",\n",
        "                \"ano_nascimento\": 1963\n",
        "            },\n",
        "        }\n",
        "    }\n",
        "}\n",
        "print(cadastro)\n",
        "cadastro[\"Lorena\"][\"pais\"][\"mãe\"][\"ano_nascimento\"]"
      ],
      "metadata": {
        "id": "V3ZSIC2lOOVr"
      },
      "execution_count": null,
      "outputs": []
    },
    {
      "cell_type": "code",
      "source": [
        "# 2. Operações\n",
        "credito = {\"123\": 750, \"789\": 980}\n",
        "print(credito)\n",
        "\n",
        "# Acessando elementos\n",
        "score_123 = credito[\"123\"]\n",
        "score_789 = credito[\"789\"]\n",
        "\n",
        "print(score_123)\n",
        "print(score_789)\n",
        "\n",
        "# Atualizando elementos\n",
        "credito[\"123\"] = 435\n",
        "print(credito)\n",
        "\n",
        "# Inserindo elementos \n",
        "credito[\"456\"] = 1000\n",
        "print(credito)"
      ],
      "metadata": {
        "id": "wxIiu1RcP7tl"
      },
      "execution_count": null,
      "outputs": []
    },
    {
      "cell_type": "code",
      "source": [
        "# 3. Métodos\n",
        "\n",
        "# Outra forma de criar um dicionário utilizando a função dict do Python\n",
        "\n",
        "artigo = dict(\n",
        "    titulo = \"Módulo 2 | Python: Estrutura de Dados\",\n",
        "    corpo = \"Tópicos, Aulas, Listas, Conjuntos, Dicionários,...\", \n",
        "    total_caracteres = 1530    \n",
        ")\n",
        "\n",
        "print(artigo)\n",
        "\n",
        "## Método de update: atualização dos elementos do dicionário baseado na chave\n",
        "print(artigo)\n",
        "artigo.update({\"total_caracteres\": 7850})\n",
        "print(artigo)\n",
        "\n",
        "# Outra forma de fazer a mesma operação\n",
        "artigo[\"total_caracteres\"] = 8069\n",
        "print(artigo)\n",
        "\n",
        "## Método pop: excluir elemento do dicionário\n",
        "print(artigo)\n",
        "total_caracteres = artigo.pop(\"total_caracteres\")\n",
        "print(artigo)"
      ],
      "metadata": {
        "id": "Xwb2TDVMRcR9"
      },
      "execution_count": null,
      "outputs": []
    },
    {
      "cell_type": "code",
      "source": [
        "# 4. Conversão\n",
        "\n",
        "# Podemos converter as chaves e os valores de um dicionário em listas\n",
        "artigo = dict(\n",
        "    titulo = \"Módulo 2 | Python: Estrutura de Dados\",\n",
        "    corpo = \"Tópicos, Aulas, Listas, Conjuntos, Dicionários,...\", \n",
        "    total_caracteres = 1530    \n",
        ")\n",
        "\n",
        "# Primeiro vamos extrair as chaves utilizando o método keys e transformando em lista\n",
        "chaves = list(artigo.keys())\n",
        "print(chaves)\n",
        "print(type(chaves))\n",
        "\n",
        "# Depois a gente extrai os valores utilizando o método values e transformando em lista\n",
        "valores = list(artigo.values())\n",
        "print(valores)\n",
        "print(type(valores))\n",
        "\n",
        "# Obs: a gente não consegue transformar uma lista e um dicionário pois para isso precisamos de mais informações que a lista pode fornecer."
      ],
      "metadata": {
        "id": "47YR2qTEThx8"
      },
      "execution_count": null,
      "outputs": []
    },
    {
      "cell_type": "markdown",
      "source": [
        "# **Resolvendo o problema**\n",
        "\n",
        "Abordagem: armazenar a informação em dicionário\n",
        "Estratégia: \n",
        "\n",
        "\n",
        "1. Criar uma lista vazia\n",
        "2. Criar um dicionário para primeira rede\n",
        "3. Adicionar o dicionário a lista vazia com o método append\n",
        "4. Criar um dicionário para segunda rede\n",
        "5. Adicionar o dicionário a lista com o método append\n",
        "\n",
        "\n",
        "\n"
      ],
      "metadata": {
        "id": "NI7DpBPUUwHu"
      }
    },
    {
      "cell_type": "code",
      "source": [
        "# 1. Criar uma lista vazia\n",
        "wifi_disponiveis = []\n",
        "# 2. Criar um dicionário para primeira rede\n",
        "rede = {\"nome\": \"rede1\", \"senha\": \"cnx_cnx\"}\n",
        "# 3. Adicionar o dicionário a lista vazia com o método append\n",
        "wifi_disponiveis.append(rede)\n",
        "# 4. Criar um dicionário para segunda rede\n",
        "rede = {\"nome\": \"uai-fi\", \"senha\": \"r3d3\"}\n",
        "# 5. Adicionar o dicionário a lista com o método append\n",
        "wifi_disponiveis.append(rede)\n",
        "\n",
        "print(wifi_disponiveis)"
      ],
      "metadata": {
        "colab": {
          "base_uri": "https://localhost:8080/"
        },
        "id": "342Jsmc6V74A",
        "outputId": "e0b6b38d-26fd-4024-b9df-166aee45f059"
      },
      "execution_count": 27,
      "outputs": [
        {
          "output_type": "stream",
          "name": "stdout",
          "text": [
            "[{'nome': 'rede1', 'senha': 'cnx_cnx'}, {'nome': 'uai-fi', 'senha': 'r3d3'}]\n"
          ]
        }
      ]
    }
  ]
}