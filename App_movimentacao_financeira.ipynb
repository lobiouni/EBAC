{
  "nbformat": 4,
  "nbformat_minor": 0,
  "metadata": {
    "colab": {
      "name": "App_movimentacao_financeira.ipynb",
      "provenance": [],
      "collapsed_sections": [],
      "authorship_tag": "ABX9TyO67q81+aNaX5Fa7/3FkGJw",
      "include_colab_link": true
    },
    "kernelspec": {
      "name": "python3",
      "display_name": "Python 3"
    },
    "language_info": {
      "name": "python"
    }
  },
  "cells": [
    {
      "cell_type": "markdown",
      "metadata": {
        "id": "view-in-github",
        "colab_type": "text"
      },
      "source": [
        "<a href=\"https://colab.research.google.com/github/lobiouni/EBAC/blob/main/App_movimentacao_financeira.ipynb\" target=\"_parent\"><img src=\"https://colab.research.google.com/assets/colab-badge.svg\" alt=\"Open In Colab\"/></a>"
      ]
    },
    {
      "cell_type": "markdown",
      "source": [
        "# **App de movimentação financeira**\n",
        "\n",
        "O aplicativo do seu banco registra toda a sua movimentação financeira. O final do dia, o app consolida o saldo final para que você possa controlar sua vida financeira."
      ],
      "metadata": {
        "id": "yOuQrRBJpKHM"
      }
    },
    {
      "cell_type": "code",
      "execution_count": 28,
      "metadata": {
        "colab": {
          "base_uri": "https://localhost:8080/"
        },
        "id": "8N1feMWso-lA",
        "outputId": "5fc78b67-e28e-4f91-8747-4c7062d96ac4"
      },
      "outputs": [
        {
          "output_type": "stream",
          "name": "stdout",
          "text": [
            "860.63\n"
          ]
        }
      ],
      "source": [
        "dia_11_saldo_inicial = 1000\n",
        "\n",
        "dia_11_transacao_1 = 243\n",
        "dia_11_transacao_2 = -798.58\n",
        "dia_11_transacao_3 = 427.12\n",
        "dia_11_transacao_4 = -10.91\n",
        "\n",
        "dia_11_saldo_final = dia_11_saldo_inicial + dia_11_transacao_1 + dia_11_transacao_2 + dia_11_transacao_3 + dia_11_transacao_4\n",
        "print (dia_11_saldo_final)"
      ]
    },
    {
      "cell_type": "markdown",
      "source": [
        "Será que existe uma forma melhor de armazenar as transações diárias?"
      ],
      "metadata": {
        "id": "Ohxp33tnqIQA"
      }
    },
    {
      "cell_type": "markdown",
      "source": [
        "# **Aula**"
      ],
      "metadata": {
        "id": "TvOpEatTqRgG"
      }
    },
    {
      "cell_type": "code",
      "source": [
        "usuario_web = [\"Lorena Pinheiro\", \"lorena.pinheiro\", \"lorena123\", \"lorena.biouni@gmail.com\"]\n",
        "print(usuario_web)\n",
        "print(type(usuario_web))\n",
        "\n",
        "idade = 33\n",
        "saldo_em_conta = 723.15\n",
        "usuario_loggedin = True\n",
        "\n",
        "usuario_web = [\"Lorena Pinheiro\", idade, \"lorena.pinheiro\", \"lorena123\", \"lorena.biouni@gmail.com\", saldo_em_conta, usuario_loggedin]\n",
        "print(usuario_web)\n",
        "print(type(usuario_web))\n",
        "\n",
        "# 1.Operações com listas\n",
        "\n",
        "## Concatenação\n",
        "fabricantes_mobile_china = [\"xiaomi\", \"huawei\"]\n",
        "fabricantes_mobile_eua = [\"apple\", \"motorola\"]\n",
        "fabricantes_mobile = fabricantes_mobile_china + fabricantes_mobile_eua\n",
        "print(fabricantes_mobile)\n",
        "\n",
        "## Fatiamento\n",
        "print(f\"0: {fabricantes_mobile[0]}\")\n",
        "print(f\"1: {fabricantes_mobile[1]}\")\n",
        "print(f\"2: {fabricantes_mobile[2]}\")\n",
        "print(f\"3: {fabricantes_mobile[3]}\")\n",
        "print(f\"-1: {fabricantes_mobile[-1]}\")\n",
        "print(f\"-2: {fabricantes_mobile[-2]}\")\n",
        "print(f\"-3: {fabricantes_mobile[-3]}\")\n",
        "\n",
        "## Fatiamento por intervalo\n",
        "fabricantes_mobile_china = fabricantes_mobile[0:2] #selecionando apenas os fabricantes chineses\n",
        "fabricantes_mobile_eua = fabricantes_mobile[2:len(fabricantes_mobile)]\n",
        "\n",
        "# print(\"China: \" + fabricantes_mobile_china) vai dar erro pois a operação não tá definida pra strings e listas. Você só pode concatenar strings com strings \n",
        "print(\"China: \" + str(fabricantes_mobile_china))\n",
        "print(\"EUA: \" + str(fabricantes_mobile_eua))\n",
        "\n",
        "## Alterar um elemento específico na lista\n",
        "fabricantes_mobile[2] = \"nokia\"\n",
        "print(fabricantes_mobile)"
      ],
      "metadata": {
        "id": "F873_j1HqTZp"
      },
      "execution_count": null,
      "outputs": []
    },
    {
      "cell_type": "code",
      "source": [
        "# 2. Métodos\n",
        "juros = [0.05, 0.07, 0.02, 0.04, 0.08]\n",
        "print(juros)\n",
        "\n",
        "## Inserir um elemento sem substituir: list.insert(posição, elemento)\n",
        "juros.insert(0, 0.1)\n",
        "print(juros)\n",
        "\n",
        "## Inserir um elemtno no fim da lista:  list.append(elemento)\n",
        "juros.append(0.99)\n",
        "print(juros)\n",
        "\n",
        "juros.append(\"teste\") # pode inserir texto também e não apenas número \n",
        "print(juros)\n",
        "\n",
        "## Remover um elemento pelo valor: list.remove(elemento)\n",
        "juros.remove(\"teste\")\n",
        "print(juros)\n",
        "\n",
        "## Remover um elemento pela posição (index): list.pop(posição)\n",
        "juros.pop(6)\n",
        "print(juros)"
      ],
      "metadata": {
        "id": "QkaJNrxs0ZGv"
      },
      "execution_count": null,
      "outputs": []
    },
    {
      "cell_type": "code",
      "source": [
        "# 3. Conversão\n",
        "email = \"lorena.biouni@gmail.com\"\n",
        "caracteres_email = list(email)\n",
        "\n",
        "print(email)\n",
        "print(caracteres_email)"
      ],
      "metadata": {
        "id": "2iuS7iUv2bgE"
      },
      "execution_count": null,
      "outputs": []
    },
    {
      "cell_type": "markdown",
      "source": [
        "# **Resolvendo o problema**\n",
        "\n",
        "Estratégia\n",
        "\n",
        "\n",
        "1. Criar uma lista vazia\n",
        "2. Adicionar as transações à lista com o método list.append\n",
        "3. Calcular o saldo final do dia"
      ],
      "metadata": {
        "id": "UI9DNCwM2-dS"
      }
    },
    {
      "cell_type": "code",
      "source": [
        "dia_11_saldo_inicial = 1000\n",
        "\n",
        "dia_11_transacao_1 = 243\n",
        "dia_11_transacao_2 = -798.50\n",
        "dia_11_transacao_3 = 427.12\n",
        "dia_11_transacao_4 = -10.91\n",
        "\n",
        "# 1. Criando uma lista vazia\n",
        "dia_11_transacoes = []\n",
        "\n",
        "# 2. Utilizando o método list.append para adicionar as transações à lista \n",
        "dia_11_transacoes.append(243)\n",
        "dia_11_transacoes.append(-798.58)\n",
        "dia_11_transacoes.append(427.12)\n",
        "dia_11_transacoes.append(-10.91)\n",
        "\n",
        "print(dia_11_transacoes)\n",
        "\n",
        "# 3. Calculando o saldo final\n",
        "dia_11_saldo_final = dia_11_saldo_inicial + dia_11_transacoes[0] + dia_11_transacoes[1] + dia_11_transacoes[2] + dia_11_transacoes[3]\n",
        "print (dia_11_saldo_final)"
      ],
      "metadata": {
        "colab": {
          "base_uri": "https://localhost:8080/"
        },
        "id": "mZEydpK-3CRp",
        "outputId": "4ac0269f-8689-44a7-a879-a511d560d5cc"
      },
      "execution_count": 30,
      "outputs": [
        {
          "output_type": "stream",
          "name": "stdout",
          "text": [
            "[243, -798.58, 427.12, -10.91]\n",
            "860.63\n"
          ]
        }
      ]
    }
  ]
}