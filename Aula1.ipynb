{
  "nbformat": 4,
  "nbformat_minor": 0,
  "metadata": {
    "colab": {
      "name": "Aula1.ipynb",
      "provenance": [],
      "collapsed_sections": [],
      "authorship_tag": "ABX9TyPJjBwYtRrDZwhccX/shR5X",
      "include_colab_link": true
    },
    "kernelspec": {
      "name": "python3",
      "display_name": "Python 3"
    },
    "language_info": {
      "name": "python"
    }
  },
  "cells": [
    {
      "cell_type": "markdown",
      "metadata": {
        "id": "view-in-github",
        "colab_type": "text"
      },
      "source": [
        "<a href=\"https://colab.research.google.com/github/lobiouni/EBAC/blob/main/Aula1.ipynb\" target=\"_parent\"><img src=\"https://colab.research.google.com/assets/colab-badge.svg\" alt=\"Open In Colab\"/></a>"
      ]
    },
    {
      "cell_type": "markdown",
      "source": [
        "Esta é a minha primeira **célula** de texto no Colab! Aprendi a fazer lista?\n",
        "\n",
        "\n",
        "1.   Sim\n",
        "2.   Não\n",
        "\n",
        "A resposta é *sim*!\n",
        "\n"
      ],
      "metadata": {
        "id": "0kV3TrkByv9j"
      }
    },
    {
      "cell_type": "code",
      "source": [
        "print(\"Esse é o meu primeiro script em Phyton\")"
      ],
      "metadata": {
        "colab": {
          "base_uri": "https://localhost:8080/"
        },
        "id": "bS7lEPqTzcBf",
        "outputId": "73a11e35-08cc-408c-9d8f-3571cb540730"
      },
      "execution_count": null,
      "outputs": [
        {
          "output_type": "stream",
          "name": "stdout",
          "text": [
            "Esse é o meu primeiro script em Phyton\n"
          ]
        }
      ]
    },
    {
      "cell_type": "code",
      "source": [
        "idade = 33\n",
        "print(idade)\n",
        "nome = \"Lorena\"\n",
        "print(nome)\n",
        "print(nome, idade)\n",
        "idade = 34\n",
        "print(idade)"
      ],
      "metadata": {
        "colab": {
          "base_uri": "https://localhost:8080/"
        },
        "id": "07rZor-e4dsa",
        "outputId": "432b85a3-5ec4-444c-ae15-5744c3931f64"
      },
      "execution_count": 5,
      "outputs": [
        {
          "output_type": "stream",
          "name": "stdout",
          "text": [
            "33\n",
            "Lorena\n",
            "Lorena 33\n",
            "34\n"
          ]
        }
      ]
    },
    {
      "cell_type": "markdown",
      "source": [
        "# **Tipos de dados**"
      ],
      "metadata": {
        "id": "_Jaz-K227vwa"
      }
    },
    {
      "cell_type": "markdown",
      "source": [
        "1. Tipos numéricos (int), decimais (float) e complexos (complex)"
      ],
      "metadata": {
        "id": "6ZcgQZtW8BRE"
      }
    },
    {
      "cell_type": "code",
      "source": [
        "preco = 1000\n",
        "tipo_preco = type(preco)\n",
        "juros = 0.05\n",
        "tipo_juros = type(juros)\n",
        "\n",
        "print(preco)\n",
        "print(tipo_preco)\n",
        "print(juros)\n",
        "print(tipo_juros)\n",
        "print(type(2+5j))"
      ],
      "metadata": {
        "colab": {
          "base_uri": "https://localhost:8080/"
        },
        "id": "OWj8v-Eu8YC4",
        "outputId": "8a0bc05a-0471-499b-ae16-ce53bb5e5d2e"
      },
      "execution_count": 13,
      "outputs": [
        {
          "output_type": "stream",
          "name": "stdout",
          "text": [
            "1000\n",
            "<class 'int'>\n",
            "0.05\n",
            "<class 'float'>\n",
            "<class 'complex'>\n"
          ]
        }
      ]
    },
    {
      "cell_type": "markdown",
      "source": [
        "2. Tipos textos: string (str)"
      ],
      "metadata": {
        "id": "M60L0l1D9IQH"
      }
    },
    {
      "cell_type": "code",
      "source": [
        "meu_nome=\"Lorena\"\n",
        "print(meu_nome)\n",
        "print(type(meu_nome))"
      ],
      "metadata": {
        "colab": {
          "base_uri": "https://localhost:8080/"
        },
        "id": "3EW98Xhs9QOH",
        "outputId": "e8523057-e121-4422-ca8d-760d3a1b3ae6"
      },
      "execution_count": 7,
      "outputs": [
        {
          "output_type": "stream",
          "name": "stdout",
          "text": [
            "Lorena\n",
            "<class 'str'>\n"
          ]
        }
      ]
    },
    {
      "cell_type": "markdown",
      "source": [
        "3. Tipos lógicos: booleanos (bool)"
      ],
      "metadata": {
        "id": "1EeIGvpM9rS8"
      }
    },
    {
      "cell_type": "code",
      "source": [
        "usuario_maior_de_idade = False\n",
        "print(usuario_maior_de_idade)\n",
        "print(type(usuario_maior_de_idade))"
      ],
      "metadata": {
        "colab": {
          "base_uri": "https://localhost:8080/"
        },
        "id": "zcm9oMMM92AT",
        "outputId": "7c49f287-cb82-44e2-9fd2-323df8114171"
      },
      "execution_count": 8,
      "outputs": [
        {
          "output_type": "stream",
          "name": "stdout",
          "text": [
            "False\n",
            "<class 'bool'>\n"
          ]
        }
      ]
    },
    {
      "cell_type": "markdown",
      "source": [
        "4. Tipo vazio"
      ],
      "metadata": {
        "id": "g8fSrQrY-NtX"
      }
    },
    {
      "cell_type": "code",
      "source": [
        "telefone_fixo = None\n",
        "print(telefone_fixo)\n",
        "print(type(telefone_fixo))"
      ],
      "metadata": {
        "colab": {
          "base_uri": "https://localhost:8080/"
        },
        "id": "6h4b7HxN-QPC",
        "outputId": "16f06bf7-bfa9-4a24-ddde-858b79f75747"
      },
      "execution_count": 12,
      "outputs": [
        {
          "output_type": "stream",
          "name": "stdout",
          "text": [
            "None\n",
            "<class 'NoneType'>\n"
          ]
        }
      ]
    },
    {
      "cell_type": "markdown",
      "source": [
        "# **Operações**"
      ],
      "metadata": {
        "id": "SyhppxB4DPYV"
      }
    },
    {
      "cell_type": "code",
      "source": [
        "qtd_itens_carrinho_compra = 0\n",
        "qtd_itens_carrinho_compra = qtd_itens_carrinho_compra+1\n",
        "print(qtd_itens_carrinho_compra)\n",
        "qtd_itens_carrinho_compra = qtd_itens_carrinho_compra+1\n",
        "print(qtd_itens_carrinho_compra)"
      ],
      "metadata": {
        "colab": {
          "base_uri": "https://localhost:8080/"
        },
        "id": "LEUiz82BDSYM",
        "outputId": "b8f6f4c6-9290-4c3a-b567-3dfbe47f29c6"
      },
      "execution_count": 15,
      "outputs": [
        {
          "output_type": "stream",
          "name": "stdout",
          "text": [
            "1\n",
            "2\n"
          ]
        }
      ]
    },
    {
      "cell_type": "code",
      "source": [
        "qtd_itens_carrinho_compra = 0\n",
        "qtd_itens_carrinho_compra +=1\n",
        "print(qtd_itens_carrinho_compra)\n",
        "qtd_itens_carrinho_compra +=1\n",
        "print(qtd_itens_carrinho_compra)"
      ],
      "metadata": {
        "colab": {
          "base_uri": "https://localhost:8080/"
        },
        "id": "iHrmZy1cDlI7",
        "outputId": "a2675818-78a6-48bb-dbac-1139f12e4b61"
      },
      "execution_count": 16,
      "outputs": [
        {
          "output_type": "stream",
          "name": "stdout",
          "text": [
            "1\n",
            "2\n"
          ]
        }
      ]
    },
    {
      "cell_type": "code",
      "source": [
        "preco = 47\n",
        "quantidade = 0.250\n",
        "total_pagar = quantidade * preco\n",
        "print(total_pagar)\n",
        "type(total_pagar)"
      ],
      "metadata": {
        "colab": {
          "base_uri": "https://localhost:8080/"
        },
        "id": "czke13cgD1_N",
        "outputId": "f15bb38b-392b-4b5f-93bb-2d10ff702adb"
      },
      "execution_count": 18,
      "outputs": [
        {
          "output_type": "stream",
          "name": "stdout",
          "text": [
            "11.75\n"
          ]
        },
        {
          "output_type": "execute_result",
          "data": {
            "text/plain": [
              "float"
            ]
          },
          "metadata": {},
          "execution_count": 18
        }
      ]
    },
    {
      "cell_type": "code",
      "source": [
        "A = 3\n",
        "B = 2\n",
        "C = A/B\n",
        "print(C)\n",
        "D = A//B\n",
        "print(D)"
      ],
      "metadata": {
        "colab": {
          "base_uri": "https://localhost:8080/"
        },
        "id": "3FUVs9iNE220",
        "outputId": "a79d402d-442d-43bf-9fb8-8647d9ded919"
      },
      "execution_count": 21,
      "outputs": [
        {
          "output_type": "stream",
          "name": "stdout",
          "text": [
            "1.5\n",
            "1\n"
          ]
        }
      ]
    },
    {
      "cell_type": "code",
      "source": [
        "print(int(3.9))\n",
        "print(float(10))\n",
        "print(complex(1))"
      ],
      "metadata": {
        "colab": {
          "base_uri": "https://localhost:8080/"
        },
        "id": "ae93jYfGFMel",
        "outputId": "7cfec44c-e514-4be8-b9d6-e51b44cc2b05"
      },
      "execution_count": 24,
      "outputs": [
        {
          "output_type": "stream",
          "name": "stdout",
          "text": [
            "3\n",
            "10.0\n",
            "(1+0j)\n"
          ]
        }
      ]
    }
  ]
}