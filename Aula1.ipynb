{
  "nbformat": 4,
  "nbformat_minor": 0,
  "metadata": {
    "colab": {
      "name": "Aula1.ipynb",
      "provenance": [],
      "collapsed_sections": [],
      "authorship_tag": "ABX9TyOQy7oAH5NK97n2EWAuWnOD",
      "include_colab_link": true
    },
    "kernelspec": {
      "name": "python3",
      "display_name": "Python 3"
    },
    "language_info": {
      "name": "python"
    }
  },
  "cells": [
    {
      "cell_type": "markdown",
      "metadata": {
        "id": "view-in-github",
        "colab_type": "text"
      },
      "source": [
        "<a href=\"https://colab.research.google.com/github/lobiouni/EBAC/blob/main/Aula1.ipynb\" target=\"_parent\"><img src=\"https://colab.research.google.com/assets/colab-badge.svg\" alt=\"Open In Colab\"/></a>"
      ]
    },
    {
      "cell_type": "code",
      "execution_count": null,
      "metadata": {
        "id": "U4O2D_qcx7bc"
      },
      "outputs": [],
      "source": [
        ""
      ]
    },
    {
      "cell_type": "markdown",
      "source": [
        "Esta é a minha primeira **célula** de texto no Colab! Aprendi a fazer lista?\n",
        "\n",
        "\n",
        "1.   Sim\n",
        "2.   Não\n",
        "\n",
        "A resposta é *sim*!\n",
        "\n"
      ],
      "metadata": {
        "id": "0kV3TrkByv9j"
      }
    },
    {
      "cell_type": "code",
      "source": [
        "print(\"Esse é o meu primeiro script em Phyton\")"
      ],
      "metadata": {
        "colab": {
          "base_uri": "https://localhost:8080/"
        },
        "id": "bS7lEPqTzcBf",
        "outputId": "73a11e35-08cc-408c-9d8f-3571cb540730"
      },
      "execution_count": 1,
      "outputs": [
        {
          "output_type": "stream",
          "name": "stdout",
          "text": [
            "Esse é o meu primeiro script em Phyton\n"
          ]
        }
      ]
    }
  ]
}