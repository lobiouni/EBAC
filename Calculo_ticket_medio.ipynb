{
  "nbformat": 4,
  "nbformat_minor": 0,
  "metadata": {
    "colab": {
      "name": "Calculo_ticket_medio.ipynb",
      "provenance": [],
      "authorship_tag": "ABX9TyM1cm0A0ObfndJU5FHbeyFb",
      "include_colab_link": true
    },
    "kernelspec": {
      "name": "python3",
      "display_name": "Python 3"
    },
    "language_info": {
      "name": "python"
    }
  },
  "cells": [
    {
      "cell_type": "markdown",
      "metadata": {
        "id": "view-in-github",
        "colab_type": "text"
      },
      "source": [
        "<a href=\"https://colab.research.google.com/github/lobiouni/EBAC/blob/main/Calculo_ticket_medio.ipynb\" target=\"_parent\"><img src=\"https://colab.research.google.com/assets/colab-badge.svg\" alt=\"Open In Colab\"/></a>"
      ]
    },
    {
      "cell_type": "markdown",
      "source": [
        "# **Cálculo do ticket médio diário**\n",
        "\n",
        "Você precisa calcular o ticket médio diário (tkt) do seu restaurante. A métrica é calculada pela soma do valor das vendas (svv) de um mesmo dia dividido pela quantidade de vendas (sqv), também de um mesmo dia. Como podemos fazer esse cálculo usando o Python?\n",
        "\n",
        "> Fórmula\n",
        "\n",
        "    tkt = svv/sqv\n",
        "\n"
      ],
      "metadata": {
        "id": "fKjFUGGituq1"
      }
    },
    {
      "cell_type": "code",
      "source": [
        "svv_19 = 153.98\n",
        "sqv_19 = 3\n",
        "\n",
        "tkt_19 = svv_19/sqv_19\n",
        "print(tkt_19)"
      ],
      "metadata": {
        "colab": {
          "base_uri": "https://localhost:8080/"
        },
        "id": "Q5E6PeJVt5Ku",
        "outputId": "2b42b30e-a2c9-4174-ff76-bf773c144e9d"
      },
      "execution_count": 3,
      "outputs": [
        {
          "output_type": "stream",
          "name": "stdout",
          "text": [
            "51.32666666666666\n"
          ]
        }
      ]
    },
    {
      "cell_type": "code",
      "source": [
        "svv_23 = 295.33\n",
        "sqv_23 = 5\n",
        "\n",
        "tkt_23 = svv_23/sqv_23\n",
        "print(tkt_23)"
      ],
      "metadata": {
        "colab": {
          "base_uri": "https://localhost:8080/"
        },
        "id": "0W-aVIsxvYlM",
        "outputId": "33646c76-a0f4-4508-f994-5f4ef98a4c21"
      },
      "execution_count": 5,
      "outputs": [
        {
          "output_type": "stream",
          "name": "stdout",
          "text": [
            "59.065999999999995\n"
          ]
        }
      ]
    }
  ]
}