{
  "nbformat": 4,
  "nbformat_minor": 0,
  "metadata": {
    "colab": {
      "name": "Sistema_controle_acesso.ipynb",
      "provenance": [],
      "authorship_tag": "ABX9TyO0eE1AZr/pvPupc6TLGH5A",
      "include_colab_link": true
    },
    "kernelspec": {
      "name": "python3",
      "display_name": "Python 3"
    },
    "language_info": {
      "name": "python"
    }
  },
  "cells": [
    {
      "cell_type": "markdown",
      "metadata": {
        "id": "view-in-github",
        "colab_type": "text"
      },
      "source": [
        "<a href=\"https://colab.research.google.com/github/lobiouni/EBAC/blob/main/Sistema_controle_acesso.ipynb\" target=\"_parent\"><img src=\"https://colab.research.google.com/assets/colab-badge.svg\" alt=\"Open In Colab\"/></a>"
      ]
    },
    {
      "cell_type": "markdown",
      "source": [
        "# **Sistema de controle de acesso**\n",
        "\n",
        "Em websites (redes sociais, e-commerce, corporativos, etc.) é comum o uso de sistemas de controle de acesso, o famoso login. Em geral, nestes sistemas um usuário fornece dois dados: usuario e senha."
      ],
      "metadata": {
        "id": "PPK1rbVJ-r97"
      }
    },
    {
      "cell_type": "code",
      "source": [
        "usuario = \"lorena.pinheiro\"\n",
        "senha = \"lorena123\""
      ],
      "metadata": {
        "id": "Yu5I50Jo-82q"
      },
      "execution_count": null,
      "outputs": []
    },
    {
      "cell_type": "markdown",
      "source": [
        "Do lado do servidor, o backend do website tem armazenado os dados de usuário e senha fornecidas pelo usuário no momento do cadastro: `usuario_cadastro` e `senha_cadastro`:"
      ],
      "metadata": {
        "id": "nG_otXof_JPI"
      }
    },
    {
      "cell_type": "code",
      "source": [
        "usuario_cadastro = \"lorena.pinheiro\"\n",
        "senha_cadastro = \"lorena321\""
      ],
      "metadata": {
        "id": "YxTMAVfI_aTz"
      },
      "execution_count": null,
      "outputs": []
    },
    {
      "cell_type": "markdown",
      "source": [
        "# **Aula**"
      ],
      "metadata": {
        "id": "jvYS0ukYCIuT"
      }
    },
    {
      "cell_type": "code",
      "source": [
        "# Variáveis boleanas são as que armazenam valores lógicos (Truw or False)\n",
        "verdadeiro = True\n",
        "print(verdadeiro)\n",
        "print(type(verdadeiro))\n",
        "\n",
        "# Os operadores de comparação lógica são:\n",
        "# > (maior)\n",
        "# < (menor)\n",
        "# == (igual)\n",
        "# >= (maior ou igual)\n",
        "# <= (menor ou igual)\n",
        "# != (diferente)\n",
        "\n",
        "# Exemplo: Caixa eletrônico\n",
        "saldo_em_conta = 200\n",
        "valor_do_saque = 100\n",
        "pode_executar_saque = valor_do_saque<=saldo_em_conta # Definir o nome das variáveis boleanas como perguntas\n",
        "print(pode_executar_saque)\n",
        "\n",
        "# Exemplo: Cartão de crédito\n",
        "codigo_de_seguranca = \"852\"\n",
        "codigo_de_seguranca_cadastro = \"010\"\n",
        "pode_efetuar_pagamento = codigo_de_seguranca == codigo_de_seguranca_cadastro\n",
        "print(pode_efetuar_pagamento)\n",
        "\n",
        "# Operações com variáveis boleanas\n",
        "# | (operador ou)\n",
        "# & (operador e)\n",
        "# not (operador não)\n",
        "\n",
        "# Exemplo: tabela da verdade\n",
        "print(True | True)\n",
        "print(True | False)\n",
        "print(False | False)\n",
        "print(False | True)\n",
        "\n",
        "print(True & True)\n",
        "print(True & False)\n",
        "print(False & False)\n",
        "print(False & True)\n",
        "\n",
        "print(not True)\n",
        "print(not False)\n",
        "\n",
        "# Conversão\n",
        "idade = 33 #numérico\n",
        "tipo_sanguineo = \"A+\" #string (texto)\n",
        "filhos = 0 #numérico \n",
        "telefone_fixo = None #ausência de valor\n",
        "telefone_fixo = \"\" #ausência de valor\n",
        "\n",
        "print(bool(idade))\n",
        "print(bool(tipo_sanguineo))\n",
        "print(bool(filhos)) #o zero é mapeado para um valor falso\n",
        "print(bool(telefone_fixo)) #a ausência de valor é mapeado para um valor falso"
      ],
      "metadata": {
        "id": "MgEeNZHtCdIp"
      },
      "execution_count": null,
      "outputs": []
    },
    {
      "cell_type": "markdown",
      "source": [
        "# **Resolvendo o problema do controle de acesso**\n",
        "Estratégia:\n",
        "\n",
        "\n",
        "1.   Comparar se os dados fornecdos pelo usuário são iguais aos dados de cadastro;\n",
        "2.   Decidir com base no resultado acima se concede o acesso.\n",
        "\n"
      ],
      "metadata": {
        "id": "y6VJ5KPRI1dX"
      }
    },
    {
      "cell_type": "code",
      "source": [
        "usuario = \"lorena.pinheiro\"\n",
        "senha = \"lorena123\"\n",
        "\n",
        "usuario_cadastro = \"lorena.pinheiro\"\n",
        "senha_cadastro = \"lorena321\"\n",
        "\n",
        "# 1.  Comparando os dados de acesso e cadastro\n",
        "usuario_igual = usuario == usuario_cadastro\n",
        "print(usuario_igual)\n",
        "\n",
        "senha_igual = senha == senha_cadastro\n",
        "print(senha_igual)\n",
        "\n",
        "# 2. Decidir se concede o acesso\n",
        "conceder_acesso = usuario_igual & senha_igual\n",
        "print(conceder_acesso)"
      ],
      "metadata": {
        "id": "N-cji37RJNz8"
      },
      "execution_count": null,
      "outputs": []
    }
  ]
}