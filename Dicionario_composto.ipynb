{
  "nbformat": 4,
  "nbformat_minor": 0,
  "metadata": {
    "colab": {
      "name": "Dicionario_composto.ipynb",
      "provenance": [],
      "authorship_tag": "ABX9TyMp77P+/aIqFI4UskRNR3e7",
      "include_colab_link": true
    },
    "kernelspec": {
      "name": "python3",
      "display_name": "Python 3"
    },
    "language_info": {
      "name": "python"
    }
  },
  "cells": [
    {
      "cell_type": "markdown",
      "metadata": {
        "id": "view-in-github",
        "colab_type": "text"
      },
      "source": [
        "<a href=\"https://colab.research.google.com/github/lobiouni/EBAC/blob/main/Dicionario_composto.ipynb\" target=\"_parent\"><img src=\"https://colab.research.google.com/assets/colab-badge.svg\" alt=\"Open In Colab\"/></a>"
      ]
    },
    {
      "cell_type": "markdown",
      "source": [
        "No código abaixo eu crio um dicionário composto com os 10 primeiros filmes mais bem avaliados no site [IMBD](https://www.imdb.com/chart/top/). Para cada filme, é fornecido o nome, ano e sinopse. Como se trata de sequências no formato chave-valor, o dicionário é o melhor formato para se armazenar esse tipo de dado. Dessa forma, é possível acessar cada elemento pela sua chave (nome, ano e sinopse). "
      ],
      "metadata": {
        "id": "zmKZ_aTNH1wS"
      }
    },
    {
      "cell_type": "code",
      "execution_count": null,
      "metadata": {
        "id": "V5REKvatHrgi"
      },
      "outputs": [],
      "source": [
        "# Criando um dicionário composto\n",
        "filmes={\n",
        "    \"Filme 1\":{\n",
        "        \"nome\": \"The Shawshank Redemption\",\n",
        "        \"ano\": 1994,\n",
        "        \"sinopse\": \"Chronicles the experiences of a formerly successful banker as a prisoner in the gloomy jailhouse of Shawshank after being found guilty of a crime he did not commit. The film portrays the man's unique way of dealing with his new, torturous life; along the way he befriends a number of fellow prisoners, most notably a wise long-term inmate named Red.\"\n",
        "    },\n",
        "    \"Filme 2\":{\n",
        "        \"nome\": \"The Godfather\",\n",
        "        \"ano\": 1972,\n",
        "        \"sinopse\": \"The Godfather - Don Vito Corleone - is the head of the Corleone mafia family in New York. He is at the event of his daughter's wedding. Michael, Vito's youngest son and a decorated WW II Marine is also present at the wedding. Michael seems to be uninterested in being a part of the family business. Vito is a powerful man, and is kind to all those who give him respect but is ruthless against those who do not. But when a powerful and treacherous rival wants to sell drugs and needs the Don's influence for the same, Vito refuses to do it. What follows is a clash between Vito's fading old values and the new ways which may cause Michael to do the thing he was most reluctant in doing and wage a mob war against all the other mafia families which could tear the Corleone family apart.\"\n",
        "    },\n",
        "    \"Filme 3\": {\n",
        "        \"nome\": \"The Dark Knight\",\n",
        "        \"ano\": 2008,\n",
        "        \"sinopse\": \"Set within a year after the events of Batman Begins (2005), Batman, Lieutenant James Gordon, and new District Attorney Harvey Dent successfully begin to round up the criminals that plague Gotham City, until a mysterious and sadistic criminal mastermind known only as The Joker appears in Gotham, creating a new wave of chaos. Batman's struggle against The Joker becomes deeply personal, forcing him to - confront everything he believes - and improve his technology to stop him. A love triangle develops between Bruce Wayne, Dent, and Rachel Dawes.\"\n",
        "    },\n",
        "    \"Filme 4\": {\n",
        "        \"nome\": \"The Godfather: Part II\",\n",
        "        \"ano\": 1974,\n",
        "        \"sinopse\": \"The continuing saga of the Corleone crime family tells the story of a young Vito Corleone growing up in Sicily and in 1910s New York; and follows Michael Corleone in the 1950s as he attempts to expand the family business into Las Vegas, Hollywood and Cuba.\"\n",
        "    },\n",
        "    \"Filme 5\": {\n",
        "        \"nome\": \"12 Angry Men\",\n",
        "        \"ano\": 1957,\n",
        "        \"sinopse\": \"he defense and the prosecution have rested, and the jury is filing into the jury room to decide if a young man is guilty or innocent of murdering his father. What begins as an open-and-shut case of murder soon becomes a detective story that presents a succession of clues creating doubt, and a mini-drama of each of the jurors' prejudices and preconceptions about the trial, the accused, AND each other. Based on the play, all of the action takes place on the stage of the jury room.\"\n",
        "    },\n",
        "    \"Filme 6\": {\n",
        "        \"nome\": \"Schindler's List\",\n",
        "        \"ano\": 1993,\n",
        "        \"sinopse\": \"Oskar Schindler is a vain and greedy German businessman who becomes an unlikely humanitarian amid the barbaric German Nazi reign when he feels compelled to turn his factory into a refuge for Jews. Based on the true story of Oskar Schindler who managed to save about 1100 Jews from being gassed at the Auschwitz concentration camp, it is a testament to the good in all of us.\"\n",
        "    },\n",
        "    \"Filme 7\": {\n",
        "        \"nome\": \"The Lord of the Rings: The Return of the King\",\n",
        "        \"ano\": 2003,\n",
        "        \"sinopse\": \"The final confrontation between the forces of good and evil fighting for control of the future of Middle-earth. Frodo and Sam reach Mordor in their quest to destroy the One Ring, while Aragorn leads the forces of good against Sauron's evil army at the stone city of Minas Tirith.\"\n",
        "    }, \n",
        "    \"Filme 8\": {\n",
        "        \"nome\": \"Pulp Fiction\", \n",
        "        \"ano\": 1994,\n",
        "        \"sinopse\": \"Jules Winnfield (Samuel L. Jackson) and Vincent Vega (John Travolta) are two hit men who are out to retrieve a suitcase stolen from their employer, mob boss Marsellus Wallace (Ving Rhames). Wallace has also asked Vincent to take his wife Mia (Uma Thurman) out a few days later when Wallace himself will be out of town. Butch Coolidge (Bruce Willis) is an aging boxer who is paid by Wallace to lose his fight. The lives of these seemingly unrelated people are woven together comprising of a series of funny, bizarre and uncalled-for incidents.\"\n",
        "    },\n",
        "    \"Filme 9\": {\n",
        "        \"nome\": \"The Lord of the Rings: The Fellowship of the Ring\", \n",
        "        \"ano\": 2001,\n",
        "        \"sinopse\": \"An ancient Ring thought lost for centuries has been found, and through a strange twist of fate has been given to a small Hobbit named Frodo. When Gandalf discovers the Ring is in fact the One Ring of the Dark Lord Sauron, Frodo must make an epic quest to the Cracks of Doom in order to destroy it. However, he does not go alone. He is joined by Gandalf, Legolas the elf, Gimli the Dwarf, Aragorn, Boromir, and his three Hobbit friends Merry, Pippin, and Samwise. Through mountains, snow, darkness, forests, rivers and plains, facing evil and danger at every corner the Fellowship of the Ring must go. Their quest to destroy the One Ring is the only hope for the end of the Dark Lords reign.\"\n",
        "    }, \n",
        "    \"Filme 10\": {\n",
        "        \"nome\": \"The Good, the Bad and the Ugly\", \n",
        "        \"ano\": 1966,\n",
        "        \"sinopse\": \"Blondie, The Good (Clint Eastwood), is a professional gunslinger who is out trying to earn a few dollars. Angel Eyes, The Bad (Lee Van Cleef), is a hitman who always commits to a task and sees it through--as long as he's paid to do so. And Tuco, The Ugly (Eli Wallach), is a wanted outlaw trying to take care of his own hide. Tuco and Blondie share a partnership making money off of Tuco's bounty, but when Blondie unties the partnership, Tuco tries to hunt down Blondie. When Blondie and Tuco come across a horse carriage loaded with dead bodies, they soon learn from the only survivor, Bill Carson (Antonio Casale), that he and a few other men have buried a stash of gold in a cemetery. Unfortunately, Carson dies and Tuco only finds out the name of the cemetery, while Blondie finds out the name on the grave. Now the two must keep each other alive in order to find the gold. Angel Eyes (who had been looking for Bill Carson) discovers that Tuco and Blondie met with Carson and knows they know where the gold is; now he needs them to lead him to it. Now The Good, the Bad, and the Ugly must all battle it out to get their hands on $200,000.00 worth of gold.\"\n",
        "    }\n",
        "}\n",
        "\n",
        "# Imprimindo o resultado\n",
        "print(filmes)\n",
        "\n",
        "# Imprimindo o ano do quinto filme da lista\n",
        "print(filmes['Filme 5']['ano'])\n",
        "\n",
        "# Imprimindo o nome do primeiro filme da lista\n",
        "print(filmes['Filme 1']['nome'])\n",
        "\n",
        "# Imprimindo a sinopse do terceiro filme da lista\n",
        "print(filmes['Filme 3']['sinopse'])"
      ]
    }
  ]
}